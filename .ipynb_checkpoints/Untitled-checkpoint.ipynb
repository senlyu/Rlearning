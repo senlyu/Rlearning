{
 "cells": [
  {
   "cell_type": "code",
   "execution_count": 2,
   "metadata": {
    "collapsed": false
   },
   "outputs": [
    {
     "data": {},
     "metadata": {},
     "output_type": "display_data"
    }
   ],
   "source": [
    "library()"
   ]
  },
  {
   "cell_type": "code",
   "execution_count": 3,
   "metadata": {
    "collapsed": true
   },
   "outputs": [],
   "source": [
    "library(ISwR)"
   ]
  },
  {
   "cell_type": "code",
   "execution_count": 10,
   "metadata": {
    "collapsed": false
   },
   "outputs": [
    {
     "data": {},
     "metadata": {},
     "output_type": "display_data"
    }
   ],
   "source": [
    "library(help = ISwR)"
   ]
  },
  {
   "cell_type": "code",
   "execution_count": 9,
   "metadata": {
    "collapsed": false
   },
   "outputs": [
    {
     "data": {
      "text/html": [
       "74.3333333333333"
      ],
      "text/latex": [
       "74.3333333333333"
      ],
      "text/markdown": [
       "74.3333333333333"
      ],
      "text/plain": [
       "[1] 74.33333"
      ]
     },
     "metadata": {},
     "output_type": "display_data"
    },
    {
     "data": {
      "text/html": [
       "1.79166666666667"
      ],
      "text/latex": [
       "1.79166666666667"
      ],
      "text/markdown": [
       "1.79166666666667"
      ],
      "text/plain": [
       "[1] 1.791667"
      ]
     },
     "metadata": {},
     "output_type": "display_data"
    },
    {
     "data": {
      "text/html": [
       "0.100282933077701"
      ],
      "text/latex": [
       "0.100282933077701"
      ],
      "text/markdown": [
       "0.100282933077701"
      ],
      "text/plain": [
       "[1] 0.1002829"
      ]
     },
     "metadata": {},
     "output_type": "display_data"
    },
    {
     "data": {
      "text/html": [
       "<strong>75%:</strong> 1.875"
      ],
      "text/latex": [
       "\\textbf{75\\textbackslash{}\\%:} 1.875"
      ],
      "text/markdown": [
       "**75%:** 1.875"
      ],
      "text/plain": [
       "  75% \n",
       "1.875 "
      ]
     },
     "metadata": {},
     "output_type": "display_data"
    },
    {
     "data": {
      "text/html": [
       "<dl class=dl-horizontal>\n",
       "\t<dt>30%</dt>\n",
       "\t\t<dd>1.745</dd>\n",
       "\t<dt>50%</dt>\n",
       "\t\t<dd>1.775</dd>\n",
       "</dl>\n"
      ],
      "text/latex": [
       "\\begin{description*}\n",
       "\\item[30\\textbackslash{}\\%] 1.745\n",
       "\\item[50\\textbackslash{}\\%] 1.775\n",
       "\\end{description*}\n"
      ],
      "text/markdown": [
       "30%\n",
       ":   1.74550%\n",
       ":   1.775\n",
       "\n"
      ],
      "text/plain": [
       "  30%   50% \n",
       "1.745 1.775 "
      ]
     },
     "metadata": {},
     "output_type": "display_data"
    }
   ],
   "source": [
    "# create a voctor(60,72,57,90,95,72) called weight\n",
    "weight=c(60,72,57,90,95,72)\n",
    "height=c(1.75,1.8,1.65,1.9,1.74,1.91)\n",
    "# \n",
    "mean(weight)\n",
    "mean(height)\n",
    "sd(height)\n",
    "a=median(weight)\n",
    "quantile(height,probs = 0.75)\n",
    "\n",
    "quantile(height,probs=c(0.3,0.5))"
   ]
  },
  {
   "cell_type": "code",
   "execution_count": null,
   "metadata": {
    "collapsed": true
   },
   "outputs": [],
   "source": []
  }
 ],
 "metadata": {
  "anaconda-cloud": {},
  "kernelspec": {
   "display_name": "R",
   "language": "R",
   "name": "ir"
  },
  "language_info": {
   "codemirror_mode": "r",
   "file_extension": ".r",
   "mimetype": "text/x-r-source",
   "name": "R",
   "pygments_lexer": "r",
   "version": "3.3.2"
  }
 },
 "nbformat": 4,
 "nbformat_minor": 1
}
