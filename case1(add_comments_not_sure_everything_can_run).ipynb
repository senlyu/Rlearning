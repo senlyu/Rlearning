{
 "cells": [
  {
   "cell_type": "markdown",
   "metadata": {
    "collapsed": false,
    "deletable": true,
    "editable": true
   },
   "source": [
    "# remember to rewrite this shit\n",
    "## need someone to help with NA\n"
   ]
  },
  {
   "cell_type": "code",
   "execution_count": 2,
   "metadata": {
    "collapsed": true,
    "deletable": true,
    "editable": true
   },
   "outputs": [],
   "source": []
  },
  {
   "cell_type": "code",
   "execution_count": 3,
   "metadata": {
    "collapsed": false,
    "deletable": true,
    "editable": true
   },
   "outputs": [
    {
     "data": {
      "text/html": [
       "'/home/senlyu/case'"
      ],
      "text/latex": [
       "'/home/senlyu/case'"
      ],
      "text/markdown": [
       "'/home/senlyu/case'"
      ],
      "text/plain": [
       "[1] \"/home/senlyu/case\""
      ]
     },
     "metadata": {},
     "output_type": "display_data"
    }
   ],
   "source": [
    "# get the dir\n",
    "getwd()\n",
    "# set the dir\n",
    "setwd('/home/senlyu/case/data')"
   ]
  },
  {
   "cell_type": "code",
   "execution_count": 4,
   "metadata": {
    "collapsed": true,
    "deletable": true,
    "editable": true
   },
   "outputs": [],
   "source": [
    "# get the data\n",
    "train.file <- paste0('/home/senlyu/case/data/', 'training.csv')\n",
    "data <- read.csv(train.file, stringsAsFactors=F)"
   ]
  },
  {
   "cell_type": "code",
   "execution_count": 5,
   "metadata": {
    "collapsed": true,
    "deletable": true,
    "editable": true
   },
   "outputs": [],
   "source": [
    "# random all the data\n",
    "data_new = data[sample(nrow(data),size=dim(data)[1],replace=TRUE),]\n",
    "# get a look at our dataset\n",
    "head(data_new)"
   ]
  },
  {
   "cell_type": "code",
   "execution_count": 6,
   "metadata": {
    "collapsed": false,
    "deletable": true,
    "editable": true
   },
   "outputs": [],
   "source": [
    "# train-validation-test split\n",
    "# both validation, test are set to 700\n",
    "# be careful with the len\n",
    "train.len = dim(data_new)[1]-1400\n",
    "validation.len = 700\n",
    "test.len = 700\n",
    "to.train = data_new[1:train.len,]\n",
    "to.validation = data_new[(train.len+1):(train.len+validation.len),]\n",
    "to.test = data_new[(train.len+validation.len+1):(train.len+validation.len+test.len),]"
   ]
  },
  {
   "cell_type": "code",
   "execution_count": 7,
   "metadata": {
    "collapsed": false,
    "deletable": true,
    "editable": true
   },
   "outputs": [],
   "source": [
    "# change the data into good form\n",
    "# im.train[i,j,k] = the value of, the number i image, the j row, the k col\n",
    "# or you can see it in this way. number i image is in im.train[i,,]\n",
    "\n",
    "# the traget is lb.train\n",
    "# the each feature has (x,y). \n",
    "# for each i image, j feature, x=lb.train[i,2*j-1], y=lb.train[i,2*j]"
   ]
  },
  {
   "cell_type": "code",
   "execution_count": 8,
   "metadata": {
    "collapsed": false,
    "deletable": true,
    "editable": true
   },
   "outputs": [],
   "source": [
    "trainimage = to.train$Image\n",
    "to.train$Image = NULL\n",
    "lb.train = to.train\n",
    "im.train = array(0,dim = c(length(trainimage),96,96))\n",
    "for (i in (1:length(trainimage)))\n",
    "{\n",
    "    im.intlize = as.integer(unlist(strsplit(trainimage[i], \" \")))\n",
    "    im.add = matrix(data=rev(im.intlize),nrow=96,ncol=96)\n",
    "    for (j in 1:96)\n",
    "        for (k in 1:96)\n",
    "            {\n",
    "            im.train[i,j,k] = im.add[j,k]\n",
    "        }\n",
    "    \n",
    "}"
   ]
  },
  {
   "cell_type": "code",
   "execution_count": 14,
   "metadata": {
    "collapsed": false,
    "deletable": true,
    "editable": true
   },
   "outputs": [],
   "source": [
    "validationimage = to.validation$Image\n",
    "to.validation$Image = NULL\n",
    "lb.validation = to.validation\n",
    "im.validation = array(0,dim = c(length(validationimage),96,96))\n",
    "for (i in (1:length(validationimage)))\n",
    "{\n",
    "    im.intlize = as.integer(unlist(strsplit(validationimage[i], \" \")))\n",
    "    im.add = matrix(data=rev(im.intlize),nrow=96,ncol=96)\n",
    "    for (j in 1:96)\n",
    "        for (k in 1:96)\n",
    "            {\n",
    "            im.validation[i,j,k] = im.add[j,k]\n",
    "        }\n",
    "    \n",
    "}"
   ]
  },
  {
   "cell_type": "code",
   "execution_count": 15,
   "metadata": {
    "collapsed": false,
    "deletable": true,
    "editable": true
   },
   "outputs": [],
   "source": [
    "testimage = to.test$Image\n",
    "to.test$Image = NULL\n",
    "lb.test = to.test\n",
    "im.test = array(0,dim = c(length(testimage),96,96))\n",
    "for (i in (1:length(testimage)))\n",
    "{\n",
    "    im.intlize = as.integer(unlist(strsplit(testimage[i], \" \")))\n",
    "    im.add = matrix(data=rev(im.intlize),nrow=96,ncol=96)\n",
    "    for (j in 1:96)\n",
    "        for (k in 1:96)\n",
    "            {\n",
    "            im.test[i,j,k] = im.add[j,k]\n",
    "        }\n",
    "    \n",
    "}\n"
   ]
  },
  {
   "cell_type": "code",
   "execution_count": 16,
   "metadata": {
    "collapsed": true,
    "deletable": true,
    "editable": true
   },
   "outputs": [],
   "source": [
    "# here are the examples of all three images and oen feature"
   ]
  },
  {
   "cell_type": "code",
   "execution_count": 1,
   "metadata": {
    "collapsed": false,
    "deletable": true,
    "editable": true
   },
   "outputs": [
    {
     "ename": "ERROR",
     "evalue": "Error in matrix(im.train[1, , ], nrow = 96, ncol = 96): object 'im.train' not found\n",
     "output_type": "error",
     "traceback": [
      "Error in matrix(im.train[1, , ], nrow = 96, ncol = 96): object 'im.train' not found\nTraceback:\n",
      "1. matrix(im.train[1, , ], nrow = 96, ncol = 96)"
     ]
    }
   ],
   "source": [
    "# no_image: number of image\n",
    "no_image = 1\n",
    "# get each sample from all three dataset\n",
    "imtrain = matrix(im.train[no_image,,],nrow = 96, ncol = 96)\n",
    "imvalidation = matrix(im.validation[no_image,,],nrow = 96, ncol = 96)\n",
    "imtest = matrix(im.test[no_image,,],nrow = 96, ncol = 96)"
   ]
  },
  {
   "cell_type": "code",
   "execution_count": 18,
   "metadata": {
    "collapsed": false,
    "deletable": true,
    "editable": true
   },
   "outputs": [
    {
     "data": {
      "text/html": [
       "32.3356310992"
      ],
      "text/latex": [
       "32.3356310992"
      ],
      "text/markdown": [
       "32.3356310992"
      ],
      "text/plain": [
       "[1] 32.33563"
      ]
     },
     "metadata": {},
     "output_type": "display_data"
    },
    {
     "data": {
      "text/html": [
       "59.7426530831"
      ],
      "text/latex": [
       "59.7426530831"
      ],
      "text/markdown": [
       "59.7426530831"
      ],
      "text/plain": [
       "[1] 59.74265"
      ]
     },
     "metadata": {},
     "output_type": "display_data"
    },
    {
     "data": {
      "image/png": "[encoded data removed]",
      "text/plain": [
       "plot without title"
      ]
     },
     "metadata": {},
     "output_type": "display_data"
    }
   ],
   "source": [
    "# show the data\n",
    "\n",
    "# change j to show the position of different features\n",
    "j = 1\n",
    "image(1:96,1:96,imtrain,col=gray((0:255)/255))\n",
    "points(96-lb.train[no_image,2*j-1],         96-lb.train[no_image,2*j],         col=\"red\")\n",
    "# why 96- ?? because the raw data is store in this way\n",
    "96-lb.train[no_image,1]\n",
    "96-lb.train[no_image,2]"
   ]
  },
  {
   "cell_type": "code",
   "execution_count": 19,
   "metadata": {
    "collapsed": false,
    "deletable": true,
    "editable": true
   },
   "outputs": [
    {
     "data": {
      "image/png": "[encoded data removed]",
      "text/plain": [
       "plot without title"
      ]
     },
     "metadata": {},
     "output_type": "display_data"
    }
   ],
   "source": [
    "image(1:96,1:96,imvalidation,col=gray((0:255)/255))"
   ]
  },
  {
   "cell_type": "code",
   "execution_count": 20,
   "metadata": {
    "collapsed": false,
    "deletable": true,
    "editable": true
   },
   "outputs": [
    {
     "data": {
      "image/png": "[encoded data removed]",
      "text/plain": [
       "plot without title"
      ]
     },
     "metadata": {},
     "output_type": "display_data"
    }
   ],
   "source": [
    "image(1:96,1:96,imtest,col=gray((0:255)/255))"
   ]
  },
  {
   "cell_type": "code",
   "execution_count": 21,
   "metadata": {
    "collapsed": true,
    "deletable": true,
    "editable": true
   },
   "outputs": [],
   "source": [
    "# save the data"
   ]
  },
  {
   "cell_type": "code",
   "execution_count": 22,
   "metadata": {
    "collapsed": true,
    "deletable": true,
    "editable": true
   },
   "outputs": [],
   "source": [
    "save(im.train, lb.train, im.validation, lb.validation, im.test, lb.test, file = 'newdata.Rd')"
   ]
  },
  {
   "cell_type": "code",
   "execution_count": 23,
   "metadata": {
    "collapsed": false,
    "deletable": true,
    "editable": true
   },
   "outputs": [],
   "source": [
    "load('newdata.Rd')"
   ]
  },
  {
   "cell_type": "code",
   "execution_count": 24,
   "metadata": {
    "collapsed": false,
    "deletable": true,
    "editable": true
   },
   "outputs": [],
   "source": [
    "# this is get the 21*21 sqaure\n",
    "# matrixoffeature is a 4-dimensional array\n",
    "# for the image i, feature j, the 21*21 feature part are in the matrixoffearture[i,j,,]\n",
    "\n",
    "# if the postion_x or y is out of range, we set it to NA\n",
    "# if the lb.train[i,j] is NA then we set matrixoffearture[i,j,,] also NA"
   ]
  },
  {
   "cell_type": "code",
   "execution_count": 25,
   "metadata": {
    "collapsed": false,
    "deletable": true,
    "editable": true
   },
   "outputs": [],
   "source": [
    "matrixoffeature = array(0,dim=c(dim(lb.train)[1], dim(lb.train)[2]/2, 21, 21))\n",
    "\n",
    "for (i in 1:(dim(lb.train)[1])){\n",
    "    for (j in 1:(dim(lb.train)[2]/2))\n",
    "        {\n",
    "        for (k in 1:21)\n",
    "            for (l in 1:21){\n",
    "                postion_x = 96 - round(lb.train[i,2*j-1] - k + 11)\n",
    "                postion_y = 96 - round(lb.train[i,2*j] - l + 11)\n",
    "                flag = (postion_x<1)|(postion_x>96)|(postion_y<1)|(postion_y>96)\n",
    "                if (is.na(postion_x)|is.na(postion_y)){\n",
    "                        flag = TRUE\n",
    "                }\n",
    "                if (is.na(flag)) {\n",
    "                    matrixoffeature[i,j,k,l] = NA\n",
    "                }else if (flag){\n",
    "                    matrixoffeature[i,j,k,l] = NA\n",
    "                    } else {\n",
    "                    matrixoffeature[i,j,k,l] = im.train[i,postion_x,postion_y]\n",
    "                }\n",
    "            }\n",
    "        }\n",
    "}\n",
    "    \n"
   ]
  },
  {
   "cell_type": "code",
   "execution_count": 26,
   "metadata": {
    "collapsed": false,
    "deletable": true,
    "editable": true
   },
   "outputs": [
    {
     "data": {
      "text/html": [
       "<table>\n",
       "<tbody>\n",
       "\t<tr><td>140</td><td> 71</td><td> 45</td><td> 88</td><td>118</td><td>139</td><td>125</td><td>112</td><td>107</td><td>103</td><td>⋯  </td><td>88 </td><td>96 </td><td>87 </td><td>42 </td><td>51 </td><td>76 </td><td> 54</td><td> 59</td><td> 57</td><td> 38</td></tr>\n",
       "\t<tr><td> 73</td><td> 87</td><td>112</td><td>106</td><td>100</td><td>115</td><td> 98</td><td> 96</td><td> 82</td><td>107</td><td>⋯  </td><td>76 </td><td>98 </td><td>89 </td><td>50 </td><td>18 </td><td>66 </td><td> 54</td><td> 65</td><td> 71</td><td> 62</td></tr>\n",
       "\t<tr><td>109</td><td>152</td><td>120</td><td> 95</td><td>103</td><td> 85</td><td> 69</td><td> 48</td><td> 50</td><td> 61</td><td>⋯  </td><td>77 </td><td>67 </td><td>58 </td><td>54 </td><td>21 </td><td>40 </td><td> 61</td><td> 53</td><td> 68</td><td> 82</td></tr>\n",
       "\t<tr><td>176</td><td>131</td><td>126</td><td>108</td><td>104</td><td> 78</td><td> 66</td><td> 45</td><td> 21</td><td> 29</td><td>⋯  </td><td>59 </td><td>63 </td><td>62 </td><td>62 </td><td>43 </td><td>19 </td><td> 33</td><td> 51</td><td> 36</td><td> 96</td></tr>\n",
       "\t<tr><td>164</td><td>140</td><td>119</td><td>104</td><td> 91</td><td> 84</td><td> 63</td><td> 45</td><td> 15</td><td> 10</td><td>⋯  </td><td>52 </td><td>62 </td><td>58 </td><td>58 </td><td>61 </td><td>30 </td><td> 18</td><td> 13</td><td> 21</td><td>103</td></tr>\n",
       "\t<tr><td>147</td><td>141</td><td>109</td><td> 88</td><td> 79</td><td> 80</td><td> 62</td><td> 37</td><td> 35</td><td> 15</td><td>⋯  </td><td>29 </td><td>58 </td><td>67 </td><td>56 </td><td>57 </td><td>35 </td><td> 12</td><td>  7</td><td> 58</td><td>139</td></tr>\n",
       "\t<tr><td>132</td><td>132</td><td>100</td><td> 92</td><td> 76</td><td> 73</td><td> 57</td><td> 37</td><td> 43</td><td> 23</td><td>⋯  </td><td> 6 </td><td>44 </td><td>69 </td><td>66 </td><td>34 </td><td>17 </td><td> 26</td><td> 16</td><td> 85</td><td>163</td></tr>\n",
       "\t<tr><td>138</td><td>133</td><td>103</td><td> 81</td><td> 64</td><td> 68</td><td> 51</td><td> 40</td><td> 46</td><td> 26</td><td>⋯  </td><td> 0 </td><td>28 </td><td>60 </td><td>64 </td><td>14 </td><td> 8 </td><td> 30</td><td> 16</td><td> 84</td><td>151</td></tr>\n",
       "\t<tr><td>136</td><td>123</td><td> 96</td><td> 73</td><td> 69</td><td> 67</td><td> 46</td><td> 46</td><td> 46</td><td> 18</td><td>⋯  </td><td> 0 </td><td>23 </td><td>60 </td><td>40 </td><td> 1 </td><td> 7 </td><td> 29</td><td> 26</td><td> 98</td><td>171</td></tr>\n",
       "\t<tr><td>148</td><td>118</td><td> 76</td><td> 64</td><td> 72</td><td> 64</td><td> 47</td><td> 49</td><td> 47</td><td> 18</td><td>⋯  </td><td> 0 </td><td>17 </td><td>53 </td><td>20 </td><td> 0 </td><td> 3 </td><td> 39</td><td> 25</td><td> 87</td><td>182</td></tr>\n",
       "\t<tr><td>152</td><td>129</td><td> 87</td><td> 60</td><td> 66</td><td> 69</td><td> 51</td><td> 50</td><td> 44</td><td> 16</td><td>⋯  </td><td> 0 </td><td>10 </td><td>35 </td><td>10 </td><td> 0 </td><td> 7 </td><td> 39</td><td> 49</td><td>100</td><td>185</td></tr>\n",
       "\t<tr><td>153</td><td>148</td><td> 97</td><td> 56</td><td> 60</td><td> 64</td><td> 44</td><td> 53</td><td> 44</td><td> 17</td><td>⋯  </td><td> 0 </td><td> 6 </td><td>21 </td><td> 4 </td><td>13 </td><td>21 </td><td> 38</td><td> 82</td><td>127</td><td>185</td></tr>\n",
       "\t<tr><td>150</td><td>157</td><td>106</td><td> 45</td><td> 50</td><td> 58</td><td> 41</td><td> 53</td><td> 46</td><td> 15</td><td>⋯  </td><td>24 </td><td>10 </td><td>29 </td><td> 0 </td><td>21 </td><td>40 </td><td> 54</td><td>100</td><td>161</td><td>189</td></tr>\n",
       "\t<tr><td>151</td><td>164</td><td>126</td><td> 49</td><td> 47</td><td> 53</td><td> 37</td><td> 41</td><td> 37</td><td> 15</td><td>⋯  </td><td> 2 </td><td>10 </td><td>37 </td><td> 0 </td><td>35 </td><td>55 </td><td> 36</td><td>104</td><td>174</td><td>182</td></tr>\n",
       "\t<tr><td>152</td><td>162</td><td>158</td><td> 69</td><td> 46</td><td> 47</td><td> 25</td><td> 24</td><td> 21</td><td> 13</td><td>⋯  </td><td> 0 </td><td> 2 </td><td>14 </td><td>13 </td><td>52 </td><td>37 </td><td> 37</td><td>108</td><td>163</td><td>176</td></tr>\n",
       "\t<tr><td>147</td><td>160</td><td>169</td><td> 90</td><td> 41</td><td> 36</td><td> 21</td><td> 13</td><td> 15</td><td> 11</td><td>⋯  </td><td> 1 </td><td> 3 </td><td>12 </td><td>15 </td><td>57 </td><td>39 </td><td> 41</td><td>114</td><td>156</td><td>164</td></tr>\n",
       "\t<tr><td>135</td><td>147</td><td>178</td><td>124</td><td> 56</td><td> 29</td><td> 17</td><td> 12</td><td> 12</td><td>  8</td><td>⋯  </td><td> 0 </td><td> 3 </td><td>17 </td><td>12 </td><td>23 </td><td>24 </td><td> 55</td><td>126</td><td>148</td><td>163</td></tr>\n",
       "\t<tr><td>118</td><td>120</td><td>153</td><td>144</td><td> 75</td><td> 27</td><td> 17</td><td> 14</td><td> 12</td><td>  7</td><td>⋯  </td><td> 0 </td><td> 9 </td><td>21 </td><td>13 </td><td> 5 </td><td> 9 </td><td> 63</td><td>128</td><td>157</td><td>167</td></tr>\n",
       "\t<tr><td> 53</td><td>109</td><td>132</td><td>149</td><td>101</td><td> 29</td><td> 15</td><td> 14</td><td> 12</td><td>  6</td><td>⋯  </td><td> 2 </td><td>14 </td><td>26 </td><td> 7 </td><td>10 </td><td>30 </td><td> 77</td><td>137</td><td>158</td><td>169</td></tr>\n",
       "\t<tr><td> 89</td><td> 37</td><td> 96</td><td>146</td><td>149</td><td> 69</td><td> 14</td><td> 13</td><td> 12</td><td>  9</td><td>⋯  </td><td> 5 </td><td>13 </td><td>10 </td><td> 6 </td><td>22 </td><td>56 </td><td> 99</td><td>138</td><td>161</td><td>173</td></tr>\n",
       "\t<tr><td>146</td><td> 89</td><td> 18</td><td> 42</td><td> 96</td><td> 83</td><td>  8</td><td>  5</td><td> 11</td><td> 11</td><td>⋯  </td><td> 5 </td><td> 3 </td><td> 4 </td><td>18 </td><td>39 </td><td>68 </td><td>111</td><td>148</td><td>163</td><td>176</td></tr>\n",
       "</tbody>\n",
       "</table>\n"
      ],
      "text/latex": [
       "\\begin{tabular}{lllllllllllllllllllll}\n",
       "\t 140 &  71 &  45 &  88 & 118 & 139 & 125 & 112 & 107 & 103 & ⋯   & 88  & 96  & 87  & 42  & 51  & 76  &  54 &  59 &  57 &  38\\\\\n",
       "\t  73 &  87 & 112 & 106 & 100 & 115 &  98 &  96 &  82 & 107 & ⋯   & 76  & 98  & 89  & 50  & 18  & 66  &  54 &  65 &  71 &  62\\\\\n",
       "\t 109 & 152 & 120 &  95 & 103 &  85 &  69 &  48 &  50 &  61 & ⋯   & 77  & 67  & 58  & 54  & 21  & 40  &  61 &  53 &  68 &  82\\\\\n",
       "\t 176 & 131 & 126 & 108 & 104 &  78 &  66 &  45 &  21 &  29 & ⋯   & 59  & 63  & 62  & 62  & 43  & 19  &  33 &  51 &  36 &  96\\\\\n",
       "\t 164 & 140 & 119 & 104 &  91 &  84 &  63 &  45 &  15 &  10 & ⋯   & 52  & 62  & 58  & 58  & 61  & 30  &  18 &  13 &  21 & 103\\\\\n",
       "\t 147 & 141 & 109 &  88 &  79 &  80 &  62 &  37 &  35 &  15 & ⋯   & 29  & 58  & 67  & 56  & 57  & 35  &  12 &   7 &  58 & 139\\\\\n",
       "\t 132 & 132 & 100 &  92 &  76 &  73 &  57 &  37 &  43 &  23 & ⋯   &  6  & 44  & 69  & 66  & 34  & 17  &  26 &  16 &  85 & 163\\\\\n",
       "\t 138 & 133 & 103 &  81 &  64 &  68 &  51 &  40 &  46 &  26 & ⋯   &  0  & 28  & 60  & 64  & 14  &  8  &  30 &  16 &  84 & 151\\\\\n",
       "\t 136 & 123 &  96 &  73 &  69 &  67 &  46 &  46 &  46 &  18 & ⋯   &  0  & 23  & 60  & 40  &  1  &  7  &  29 &  26 &  98 & 171\\\\\n",
       "\t 148 & 118 &  76 &  64 &  72 &  64 &  47 &  49 &  47 &  18 & ⋯   &  0  & 17  & 53  & 20  &  0  &  3  &  39 &  25 &  87 & 182\\\\\n",
       "\t 152 & 129 &  87 &  60 &  66 &  69 &  51 &  50 &  44 &  16 & ⋯   &  0  & 10  & 35  & 10  &  0  &  7  &  39 &  49 & 100 & 185\\\\\n",
       "\t 153 & 148 &  97 &  56 &  60 &  64 &  44 &  53 &  44 &  17 & ⋯   &  0  &  6  & 21  &  4  & 13  & 21  &  38 &  82 & 127 & 185\\\\\n",
       "\t 150 & 157 & 106 &  45 &  50 &  58 &  41 &  53 &  46 &  15 & ⋯   & 24  & 10  & 29  &  0  & 21  & 40  &  54 & 100 & 161 & 189\\\\\n",
       "\t 151 & 164 & 126 &  49 &  47 &  53 &  37 &  41 &  37 &  15 & ⋯   &  2  & 10  & 37  &  0  & 35  & 55  &  36 & 104 & 174 & 182\\\\\n",
       "\t 152 & 162 & 158 &  69 &  46 &  47 &  25 &  24 &  21 &  13 & ⋯   &  0  &  2  & 14  & 13  & 52  & 37  &  37 & 108 & 163 & 176\\\\\n",
       "\t 147 & 160 & 169 &  90 &  41 &  36 &  21 &  13 &  15 &  11 & ⋯   &  1  &  3  & 12  & 15  & 57  & 39  &  41 & 114 & 156 & 164\\\\\n",
       "\t 135 & 147 & 178 & 124 &  56 &  29 &  17 &  12 &  12 &   8 & ⋯   &  0  &  3  & 17  & 12  & 23  & 24  &  55 & 126 & 148 & 163\\\\\n",
       "\t 118 & 120 & 153 & 144 &  75 &  27 &  17 &  14 &  12 &   7 & ⋯   &  0  &  9  & 21  & 13  &  5  &  9  &  63 & 128 & 157 & 167\\\\\n",
       "\t  53 & 109 & 132 & 149 & 101 &  29 &  15 &  14 &  12 &   6 & ⋯   &  2  & 14  & 26  &  7  & 10  & 30  &  77 & 137 & 158 & 169\\\\\n",
       "\t  89 &  37 &  96 & 146 & 149 &  69 &  14 &  13 &  12 &   9 & ⋯   &  5  & 13  & 10  &  6  & 22  & 56  &  99 & 138 & 161 & 173\\\\\n",
       "\t 146 &  89 &  18 &  42 &  96 &  83 &   8 &   5 &  11 &  11 & ⋯   &  5  &  3  &  4  & 18  & 39  & 68  & 111 & 148 & 163 & 176\\\\\n",
       "\\end{tabular}\n"
      ],
      "text/markdown": [
       "\n",
       "| 140 |  71 |  45 |  88 | 118 | 139 | 125 | 112 | 107 | 103 | ⋯   | 88  | 96  | 87  | 42  | 51  | 76  |  54 |  59 |  57 |  38 | \n",
       "|  73 |  87 | 112 | 106 | 100 | 115 |  98 |  96 |  82 | 107 | ⋯   | 76  | 98  | 89  | 50  | 18  | 66  |  54 |  65 |  71 |  62 | \n",
       "| 109 | 152 | 120 |  95 | 103 |  85 |  69 |  48 |  50 |  61 | ⋯   | 77  | 67  | 58  | 54  | 21  | 40  |  61 |  53 |  68 |  82 | \n",
       "| 176 | 131 | 126 | 108 | 104 |  78 |  66 |  45 |  21 |  29 | ⋯   | 59  | 63  | 62  | 62  | 43  | 19  |  33 |  51 |  36 |  96 | \n",
       "| 164 | 140 | 119 | 104 |  91 |  84 |  63 |  45 |  15 |  10 | ⋯   | 52  | 62  | 58  | 58  | 61  | 30  |  18 |  13 |  21 | 103 | \n",
       "| 147 | 141 | 109 |  88 |  79 |  80 |  62 |  37 |  35 |  15 | ⋯   | 29  | 58  | 67  | 56  | 57  | 35  |  12 |   7 |  58 | 139 | \n",
       "| 132 | 132 | 100 |  92 |  76 |  73 |  57 |  37 |  43 |  23 | ⋯   |  6  | 44  | 69  | 66  | 34  | 17  |  26 |  16 |  85 | 163 | \n",
       "| 138 | 133 | 103 |  81 |  64 |  68 |  51 |  40 |  46 |  26 | ⋯   |  0  | 28  | 60  | 64  | 14  |  8  |  30 |  16 |  84 | 151 | \n",
       "| 136 | 123 |  96 |  73 |  69 |  67 |  46 |  46 |  46 |  18 | ⋯   |  0  | 23  | 60  | 40  |  1  |  7  |  29 |  26 |  98 | 171 | \n",
       "| 148 | 118 |  76 |  64 |  72 |  64 |  47 |  49 |  47 |  18 | ⋯   |  0  | 17  | 53  | 20  |  0  |  3  |  39 |  25 |  87 | 182 | \n",
       "| 152 | 129 |  87 |  60 |  66 |  69 |  51 |  50 |  44 |  16 | ⋯   |  0  | 10  | 35  | 10  |  0  |  7  |  39 |  49 | 100 | 185 | \n",
       "| 153 | 148 |  97 |  56 |  60 |  64 |  44 |  53 |  44 |  17 | ⋯   |  0  |  6  | 21  |  4  | 13  | 21  |  38 |  82 | 127 | 185 | \n",
       "| 150 | 157 | 106 |  45 |  50 |  58 |  41 |  53 |  46 |  15 | ⋯   | 24  | 10  | 29  |  0  | 21  | 40  |  54 | 100 | 161 | 189 | \n",
       "| 151 | 164 | 126 |  49 |  47 |  53 |  37 |  41 |  37 |  15 | ⋯   |  2  | 10  | 37  |  0  | 35  | 55  |  36 | 104 | 174 | 182 | \n",
       "| 152 | 162 | 158 |  69 |  46 |  47 |  25 |  24 |  21 |  13 | ⋯   |  0  |  2  | 14  | 13  | 52  | 37  |  37 | 108 | 163 | 176 | \n",
       "| 147 | 160 | 169 |  90 |  41 |  36 |  21 |  13 |  15 |  11 | ⋯   |  1  |  3  | 12  | 15  | 57  | 39  |  41 | 114 | 156 | 164 | \n",
       "| 135 | 147 | 178 | 124 |  56 |  29 |  17 |  12 |  12 |   8 | ⋯   |  0  |  3  | 17  | 12  | 23  | 24  |  55 | 126 | 148 | 163 | \n",
       "| 118 | 120 | 153 | 144 |  75 |  27 |  17 |  14 |  12 |   7 | ⋯   |  0  |  9  | 21  | 13  |  5  |  9  |  63 | 128 | 157 | 167 | \n",
       "|  53 | 109 | 132 | 149 | 101 |  29 |  15 |  14 |  12 |   6 | ⋯   |  2  | 14  | 26  |  7  | 10  | 30  |  77 | 137 | 158 | 169 | \n",
       "|  89 |  37 |  96 | 146 | 149 |  69 |  14 |  13 |  12 |   9 | ⋯   |  5  | 13  | 10  |  6  | 22  | 56  |  99 | 138 | 161 | 173 | \n",
       "| 146 |  89 |  18 |  42 |  96 |  83 |   8 |   5 |  11 |  11 | ⋯   |  5  |  3  |  4  | 18  | 39  | 68  | 111 | 148 | 163 | 176 | \n",
       "\n",
       "\n"
      ],
      "text/plain": [
       "      [,1] [,2] [,3] [,4] [,5] [,6] [,7] [,8] [,9] [,10] [,11] [,12] [,13]\n",
       " [1,] 140   71   45   88  118  139  125  112  107  103   ⋯     88    96   \n",
       " [2,]  73   87  112  106  100  115   98   96   82  107   ⋯     76    98   \n",
       " [3,] 109  152  120   95  103   85   69   48   50   61   ⋯     77    67   \n",
       " [4,] 176  131  126  108  104   78   66   45   21   29   ⋯     59    63   \n",
       " [5,] 164  140  119  104   91   84   63   45   15   10   ⋯     52    62   \n",
       " [6,] 147  141  109   88   79   80   62   37   35   15   ⋯     29    58   \n",
       " [7,] 132  132  100   92   76   73   57   37   43   23   ⋯      6    44   \n",
       " [8,] 138  133  103   81   64   68   51   40   46   26   ⋯      0    28   \n",
       " [9,] 136  123   96   73   69   67   46   46   46   18   ⋯      0    23   \n",
       "[10,] 148  118   76   64   72   64   47   49   47   18   ⋯      0    17   \n",
       "[11,] 152  129   87   60   66   69   51   50   44   16   ⋯      0    10   \n",
       "[12,] 153  148   97   56   60   64   44   53   44   17   ⋯      0     6   \n",
       "[13,] 150  157  106   45   50   58   41   53   46   15   ⋯     24    10   \n",
       "[14,] 151  164  126   49   47   53   37   41   37   15   ⋯      2    10   \n",
       "[15,] 152  162  158   69   46   47   25   24   21   13   ⋯      0     2   \n",
       "[16,] 147  160  169   90   41   36   21   13   15   11   ⋯      1     3   \n",
       "[17,] 135  147  178  124   56   29   17   12   12    8   ⋯      0     3   \n",
       "[18,] 118  120  153  144   75   27   17   14   12    7   ⋯      0     9   \n",
       "[19,]  53  109  132  149  101   29   15   14   12    6   ⋯      2    14   \n",
       "[20,]  89   37   96  146  149   69   14   13   12    9   ⋯      5    13   \n",
       "[21,] 146   89   18   42   96   83    8    5   11   11   ⋯      5     3   \n",
       "      [,14] [,15] [,16] [,17] [,18] [,19] [,20] [,21]\n",
       " [1,] 87    42    51    76     54    59    57    38  \n",
       " [2,] 89    50    18    66     54    65    71    62  \n",
       " [3,] 58    54    21    40     61    53    68    82  \n",
       " [4,] 62    62    43    19     33    51    36    96  \n",
       " [5,] 58    58    61    30     18    13    21   103  \n",
       " [6,] 67    56    57    35     12     7    58   139  \n",
       " [7,] 69    66    34    17     26    16    85   163  \n",
       " [8,] 60    64    14     8     30    16    84   151  \n",
       " [9,] 60    40     1     7     29    26    98   171  \n",
       "[10,] 53    20     0     3     39    25    87   182  \n",
       "[11,] 35    10     0     7     39    49   100   185  \n",
       "[12,] 21     4    13    21     38    82   127   185  \n",
       "[13,] 29     0    21    40     54   100   161   189  \n",
       "[14,] 37     0    35    55     36   104   174   182  \n",
       "[15,] 14    13    52    37     37   108   163   176  \n",
       "[16,] 12    15    57    39     41   114   156   164  \n",
       "[17,] 17    12    23    24     55   126   148   163  \n",
       "[18,] 21    13     5     9     63   128   157   167  \n",
       "[19,] 26     7    10    30     77   137   158   169  \n",
       "[20,] 10     6    22    56     99   138   161   173  \n",
       "[21,]  4    18    39    68    111   148   163   176  "
      ]
     },
     "metadata": {},
     "output_type": "display_data"
    }
   ],
   "source": [
    "# this is how this dataset will look like\n",
    "matrixoffeature[1,1,,]"
   ]
  },
  {
   "cell_type": "code",
   "execution_count": 27,
   "metadata": {
    "collapsed": false,
    "deletable": true,
    "editable": true
   },
   "outputs": [
    {
     "data": {
      "image/png": "[encoded data removed]",
      "text/plain": [
       "plot without title"
      ]
     },
     "metadata": {},
     "output_type": "display_data"
    }
   ],
   "source": [
    "# this is one feature of one image\n",
    "no_image = 3 # no of image\n",
    "no_feature = 2 # no of feature\n",
    "im = matrix(matrixoffeature[no_image,no_feature,,],nrow = 21, ncol = 21)\n",
    "image(1:21,1:21,im,col=gray((0:255)/255))"
   ]
  },
  {
   "cell_type": "code",
   "execution_count": null,
   "metadata": {
    "collapsed": false,
    "deletable": true,
    "editable": true
   },
   "outputs": [],
   "source": [
    "# save the big matrixoffeature"
   ]
  },
  {
   "cell_type": "code",
   "execution_count": 28,
   "metadata": {
    "collapsed": true,
    "deletable": true,
    "editable": true
   },
   "outputs": [],
   "source": [
    "save(matrixoffeature,file='matrix.Rd')"
   ]
  },
  {
   "cell_type": "code",
   "execution_count": 29,
   "metadata": {
    "collapsed": true,
    "deletable": true,
    "editable": true
   },
   "outputs": [],
   "source": [
    "load('matrix.Rd')"
   ]
  },
  {
   "cell_type": "code",
   "execution_count": 30,
   "metadata": {
    "collapsed": true,
    "deletable": true,
    "editable": true
   },
   "outputs": [],
   "source": [
    "# this is our average feature\n",
    "# get the mean_f[j]\n",
    "# mean_f[j,,] is 21*21 part of the mean of all the feature j\n",
    "# if matrixoffeature[i,j,,] is not NA, we add to get the mean_f[j,,]"
   ]
  },
  {
   "cell_type": "code",
   "execution_count": 31,
   "metadata": {
    "collapsed": false,
    "deletable": true,
    "editable": true
   },
   "outputs": [],
   "source": [
    "j_len = dim(lb.train)[2]/2\n",
    "mean_f = array(0, dim=c(j_len,21,21))\n",
    "for (j in (1:j_len))\n",
    "    {\n",
    "    for (ii in 1:21)\n",
    "        for (jj in 1:21){\n",
    "            mean_f[j,ii,jj] = 0\n",
    "        }\n",
    "    for (i in 1:(dim(lb.train)[1])){\n",
    "        for (k in 1:21)\n",
    "            for (l in 1:21){\n",
    "                if (!is.na(matrixoffeature[i,j,k,l])){\n",
    "                    mean_f[j,k,l] = mean_f[j,k,l]*(i-1)/i+matrixoffeature[i,j,k,l]/i\n",
    "                }\n",
    "                \n",
    "            }\n",
    "        \n",
    "    }\n",
    "}\n"
   ]
  },
  {
   "cell_type": "code",
   "execution_count": null,
   "metadata": {
    "collapsed": false,
    "deletable": true,
    "editable": true
   },
   "outputs": [],
   "source": [
    "# save the average features"
   ]
  },
  {
   "cell_type": "code",
   "execution_count": 32,
   "metadata": {
    "collapsed": true,
    "deletable": true,
    "editable": true
   },
   "outputs": [],
   "source": [
    "save(mean_f,file='meanfeatures.Rd')"
   ]
  },
  {
   "cell_type": "code",
   "execution_count": null,
   "metadata": {
    "collapsed": true,
    "deletable": true,
    "editable": true
   },
   "outputs": [],
   "source": []
  },
  {
   "cell_type": "code",
   "execution_count": 33,
   "metadata": {
    "collapsed": true,
    "deletable": true,
    "editable": true
   },
   "outputs": [],
   "source": [
    "load('meanfeatures.Rd')"
   ]
  },
  {
   "cell_type": "code",
   "execution_count": 34,
   "metadata": {
    "collapsed": true,
    "deletable": true,
    "editable": true
   },
   "outputs": [],
   "source": [
    "# this is for you to see how the feature is\n",
    "# change the featurenum u like to see the average feature"
   ]
  },
  {
   "cell_type": "code",
   "execution_count": 35,
   "metadata": {
    "collapsed": false,
    "deletable": true,
    "editable": true
   },
   "outputs": [
    {
     "data": {
      "image/png": "[encoded data removed]",
      "text/plain": [
       "plot without title"
      ]
     },
     "metadata": {},
     "output_type": "display_data"
    }
   ],
   "source": [
    "featurenum = 1\n",
    "im = matrix(mean_f[featurenum,,],nrow = 21, ncol = 21)\n",
    "image(1:21,1:21,im,col=gray((0:255)/255))"
   ]
  },
  {
   "cell_type": "code",
   "execution_count": 7,
   "metadata": {
    "collapsed": false
   },
   "outputs": [
    {
     "data": {
      "text/html": [
       "-999"
      ],
      "text/latex": [
       "-999"
      ],
      "text/markdown": [
       "-999"
      ],
      "text/plain": [
       "[1] -999"
      ]
     },
     "metadata": {},
     "output_type": "display_data"
    }
   ],
   "source": [
    "# this is the compare function\n",
    "# use to compare two 21*21 parts, to see how similiar of each other\n",
    "# compare one feature in a image with the mean feature\n",
    "# normalize all features\n",
    "# set NA as -999\n",
    "# remember the less the score function is more similiar\n",
    "comparefeatures = function(a,b){\n",
    "    maxa = max(a)\n",
    "    mina = min(a)\n",
    "    maxb = max(b)\n",
    "    minb = min(b)\n",
    "    newa = (a - maxa)/(maxa-mina)\n",
    "    newb = (b - maxb)/(maxb-minb)\n",
    "    score = sum((newa-newb)^2)\n",
    "    if (is.na(score)) {\n",
    "        score = -999\n",
    "    }\n",
    "    return(score)\n",
    "}\n",
    "# this is for test the compare function\n",
    "a = c(1,NA,3)\n",
    "b = c(100,101,102)\n",
    "comparefeatures(a,b)"
   ]
  },
  {
   "cell_type": "code",
   "execution_count": null,
   "metadata": {
    "collapsed": true,
    "deletable": true,
    "editable": true
   },
   "outputs": [],
   "source": []
  },
  {
   "cell_type": "code",
   "execution_count": 8,
   "metadata": {
    "collapsed": false,
    "deletable": true,
    "editable": true
   },
   "outputs": [],
   "source": [
    "# this is the prediction function\n",
    "# we use cor to get score and return the highest score\n",
    "predictions = function(image, featurenumber){\n",
    "    dimx = dim(image)[1]\n",
    "    dimy = dim(image)[2]\n",
    "    maxscore = -9999999999\n",
    "    maxx = 0\n",
    "    maxy = 0\n",
    "    \n",
    "    for (i in (1:(dimx-21)))\n",
    "        for (j in (1:(dimy-21))){\n",
    "            compareimage = image[i:(i+20),j:(j+20)]\n",
    "            A = as.vector(mean_f[featurenumber,,])\n",
    "            B = as.vector(compareimage[,])\n",
    "            #la = length(A)\n",
    "            #lb = length(B)\n",
    "            #score = cor(A,B)\n",
    "            score = -comparefeatures(A,B)\n",
    "            if (score > maxscore) {\n",
    "                maxscore = score\n",
    "                maxx = i\n",
    "                maxy = j\n",
    "            }\n",
    "            \n",
    "        }\n",
    "    \n",
    "    return(c(maxscore,maxx,maxy))\n",
    "    #return(c(la,lb))\n",
    "    \n",
    "}"
   ]
  },
  {
   "cell_type": "code",
   "execution_count": null,
   "metadata": {
    "collapsed": true,
    "deletable": true,
    "editable": true
   },
   "outputs": [],
   "source": []
  },
  {
   "cell_type": "code",
   "execution_count": null,
   "metadata": {
    "collapsed": false,
    "deletable": true,
    "editable": true
   },
   "outputs": [],
   "source": []
  },
  {
   "cell_type": "code",
   "execution_count": 38,
   "metadata": {
    "collapsed": false,
    "deletable": true,
    "editable": true
   },
   "outputs": [],
   "source": []
  },
  {
   "cell_type": "code",
   "execution_count": 82,
   "metadata": {
    "collapsed": false,
    "deletable": true,
    "editable": true,
    "scrolled": false
   },
   "outputs": [
    {
     "data": {
      "text/html": [
       "-5.22003510495137"
      ],
      "text/latex": [
       "-5.22003510495137"
      ],
      "text/markdown": [
       "-5.22003510495137"
      ],
      "text/plain": [
       "[1] -5.220035"
      ]
     },
     "metadata": {},
     "output_type": "display_data"
    },
    {
     "data": {
      "image/png": "[encoded data removed]",
      "text/plain": [
       "plot without title"
      ]
     },
     "metadata": {},
     "output_type": "display_data"
    }
   ],
   "source": [
    "# this is how our banchmarks works\n",
    "# change the numofpci as the different pic in the test dataset\n",
    "# change the feature u want to test\n",
    "# the red is label\n",
    "# the green is prediction\n",
    "numofpci = 90\n",
    "numoffeature = 1\n",
    "im = matrix(im.test[numofpci,,],nrow = 96, ncol = 96)\n",
    "image(1:96,1:96,im,col=gray((0:255)/255))\n",
    "points(96-lb.test[numofpci,2*numoffeature-1],         96-lb.test[numofpci,2*numoffeature],         col=\"red\")\n",
    "p = predictions(im.test[numofpci,,],numoffeature)\n",
    "a = c(p[2]+11,p[3]+11)\n",
    "points(a[1],         a[2],         col=\"green\")\n",
    "p[1]"
   ]
  },
  {
   "cell_type": "code",
   "execution_count": null,
   "metadata": {
    "collapsed": true,
    "deletable": true,
    "editable": true
   },
   "outputs": [],
   "source": []
  },
  {
   "cell_type": "code",
   "execution_count": 12,
   "metadata": {
    "collapsed": false,
    "deletable": true,
    "editable": true
   },
   "outputs": [
    {
     "data": {
      "text/html": [
       "<table>\n",
       "<tbody>\n",
       "\t<tr><td>3</td><td>3</td></tr>\n",
       "\t<tr><td>4</td><td>4</td></tr>\n",
       "\t<tr><td>3</td><td>3</td></tr>\n",
       "</tbody>\n",
       "</table>\n"
      ],
      "text/latex": [
       "\\begin{tabular}{ll}\n",
       "\t 3 & 3\\\\\n",
       "\t 4 & 4\\\\\n",
       "\t 3 & 3\\\\\n",
       "\\end{tabular}\n"
      ],
      "text/markdown": [
       "\n",
       "| 3 | 3 | \n",
       "| 4 | 4 | \n",
       "| 3 | 3 | \n",
       "\n",
       "\n"
      ],
      "text/plain": [
       "     [,1] [,2]\n",
       "[1,] 3    3   \n",
       "[2,] 4    4   \n",
       "[3,] 3    3   "
      ]
     },
     "metadata": {},
     "output_type": "display_data"
    },
    {
     "data": {
      "text/html": [
       "<table>\n",
       "<tbody>\n",
       "\t<tr><td>3</td><td>2</td><td>1</td></tr>\n",
       "\t<tr><td>1</td><td>2</td><td>3</td></tr>\n",
       "</tbody>\n",
       "</table>\n"
      ],
      "text/latex": [
       "\\begin{tabular}{lll}\n",
       "\t 3 & 2 & 1\\\\\n",
       "\t 1 & 2 & 3\\\\\n",
       "\\end{tabular}\n"
      ],
      "text/markdown": [
       "\n",
       "| 3 | 2 | 1 | \n",
       "| 1 | 2 | 3 | \n",
       "\n",
       "\n"
      ],
      "text/plain": [
       "     [,1] [,2] [,3]\n",
       "[1,] 3    2    1   \n",
       "[2,] 1    2    3   "
      ]
     },
     "metadata": {},
     "output_type": "display_data"
    },
    {
     "data": {
      "text/html": [
       "<table>\n",
       "<tbody>\n",
       "\t<tr><td>-2</td><td> 2</td></tr>\n",
       "\t<tr><td> 0</td><td> 0</td></tr>\n",
       "\t<tr><td> 2</td><td>-2</td></tr>\n",
       "</tbody>\n",
       "</table>\n"
      ],
      "text/latex": [
       "\\begin{tabular}{ll}\n",
       "\t -2 &  2\\\\\n",
       "\t  0 &  0\\\\\n",
       "\t  2 & -2\\\\\n",
       "\\end{tabular}\n"
      ],
      "text/markdown": [
       "\n",
       "| -2 |  2 | \n",
       "|  0 |  0 | \n",
       "|  2 | -2 | \n",
       "\n",
       "\n"
      ],
      "text/plain": [
       "     [,1] [,2]\n",
       "[1,] -2    2  \n",
       "[2,]  0    0  \n",
       "[3,]  2   -2  "
      ]
     },
     "metadata": {},
     "output_type": "display_data"
    },
    {
     "data": {
      "text/html": [
       "<table>\n",
       "<tbody>\n",
       "\t<tr><td>4</td><td>4</td></tr>\n",
       "\t<tr><td>0</td><td>0</td></tr>\n",
       "\t<tr><td>4</td><td>4</td></tr>\n",
       "</tbody>\n",
       "</table>\n"
      ],
      "text/latex": [
       "\\begin{tabular}{ll}\n",
       "\t 4 & 4\\\\\n",
       "\t 0 & 0\\\\\n",
       "\t 4 & 4\\\\\n",
       "\\end{tabular}\n"
      ],
      "text/markdown": [
       "\n",
       "| 4 | 4 | \n",
       "| 0 | 0 | \n",
       "| 4 | 4 | \n",
       "\n",
       "\n"
      ],
      "text/plain": [
       "     [,1] [,2]\n",
       "[1,] 4    4   \n",
       "[2,] 0    0   \n",
       "[3,] 4    4   "
      ]
     },
     "metadata": {},
     "output_type": "display_data"
    },
    {
     "data": {
      "text/html": [
       "16"
      ],
      "text/latex": [
       "16"
      ],
      "text/markdown": [
       "16"
      ],
      "text/plain": [
       "[1] 16"
      ]
     },
     "metadata": {},
     "output_type": "display_data"
    },
    {
     "data": {
      "text/html": [
       "<table>\n",
       "<tbody>\n",
       "\t<tr><td> 6</td><td>8 </td><td>10</td></tr>\n",
       "\t<tr><td> 8</td><td>8 </td><td> 8</td></tr>\n",
       "\t<tr><td>10</td><td>8 </td><td> 6</td></tr>\n",
       "</tbody>\n",
       "</table>\n"
      ],
      "text/latex": [
       "\\begin{tabular}{lll}\n",
       "\t  6 & 8  & 10\\\\\n",
       "\t  8 & 8  &  8\\\\\n",
       "\t 10 & 8  &  6\\\\\n",
       "\\end{tabular}\n"
      ],
      "text/markdown": [
       "\n",
       "|  6 | 8  | 10 | \n",
       "|  8 | 8  |  8 | \n",
       "| 10 | 8  |  6 | \n",
       "\n",
       "\n"
      ],
      "text/plain": [
       "     [,1] [,2] [,3]\n",
       "[1,]  6   8    10  \n",
       "[2,]  8   8     8  \n",
       "[3,] 10   8     6  "
      ]
     },
     "metadata": {},
     "output_type": "display_data"
    }
   ],
   "source": [
    "# this is I tried matrix adding and muilply\n",
    "# the basic calculation of matrixs\n",
    "a = c(1,2,3,3,2,1)\n",
    "b = c(3,2,1,1,2,3)\n",
    "A = array(a,dim=c(3,2))\n",
    "B = array(b,dim=c(3,2))\n",
    "A*B\n",
    "t(B)\n",
    "A - B\n",
    "(A-B)^2\n",
    "sum((A-B)^2)\n",
    "A%*%t(B)"
   ]
  },
  {
   "cell_type": "code",
   "execution_count": null,
   "metadata": {
    "collapsed": true,
    "deletable": true,
    "editable": true
   },
   "outputs": [],
   "source": []
  },
  {
   "cell_type": "code",
   "execution_count": null,
   "metadata": {
    "collapsed": true
   },
   "outputs": [],
   "source": []
  },
  {
   "cell_type": "code",
   "execution_count": 59,
   "metadata": {
    "collapsed": true,
    "deletable": true,
    "editable": true
   },
   "outputs": [],
   "source": [
    "# this is a new start\n",
    "# before this we have all the data cleaned\n",
    "# And we have a benchmark model\n",
    "# from this we will have a new model\n",
    "setwd('/home/senlyu/case/data')\n",
    "load('newdata.Rd')\n",
    "load('matrix.Rd')\n",
    "load('meanfeatures.Rd')\n",
    "mean_f = mean"
   ]
  },
  {
   "cell_type": "code",
   "execution_count": 3,
   "metadata": {
    "collapsed": false,
    "deletable": true,
    "editable": true
   },
   "outputs": [
    {
     "data": {
      "text/html": [
       "<ol class=list-inline>\n",
       "\t<li>5649</li>\n",
       "\t<li>15</li>\n",
       "\t<li>21</li>\n",
       "\t<li>21</li>\n",
       "</ol>\n"
      ],
      "text/latex": [
       "\\begin{enumerate*}\n",
       "\\item 5649\n",
       "\\item 15\n",
       "\\item 21\n",
       "\\item 21\n",
       "\\end{enumerate*}\n"
      ],
      "text/markdown": [
       "1. 5649\n",
       "2. 15\n",
       "3. 21\n",
       "4. 21\n",
       "\n",
       "\n"
      ],
      "text/plain": [
       "[1] 5649   15   21   21"
      ]
     },
     "metadata": {},
     "output_type": "display_data"
    }
   ],
   "source": [
    "# store the dimension\n",
    "dims = dim(matrixoffeature)\n",
    "dims"
   ]
  },
  {
   "cell_type": "code",
   "execution_count": 4,
   "metadata": {
    "collapsed": false,
    "deletable": true,
    "editable": true
   },
   "outputs": [],
   "source": [
    "# get the scores as our inputs of the model\n",
    "# we set featureno as 1 for the frist feature, should be 15\n",
    "getscore = function(image){\n",
    "    dimx = dim(image)[1]\n",
    "    dimy = dim(image)[2]\n",
    "    featureno = 1\n",
    "    score = matrix(nrow=(dimx-21)^2,ncol=featureno)\n",
    "    for (j in 1:featureno){\n",
    "        maxscore = -9999999999\n",
    "        maxx = 0\n",
    "        maxy = 0\n",
    "        for (l in (1:(dimx-21)))\n",
    "            for (k in (1:(dimy-21))){\n",
    "                compareimage = image[l:(l+20),k:(k+20)]\n",
    "                A = as.vector(mean_f[j,,])\n",
    "                B = as.vector(compareimage[,])\n",
    "                #la = length(A)\n",
    "                #lb = length(B)\n",
    "                #score = cor(A,B)\n",
    "                score[(l-1)*(dimx-21)+k,j] = -comparefeatures(A,B)\n",
    "                if (!is.na(score[(l-1)*(dimx-21)+k,j])) {\n",
    "                    if (score[(l-1)*(dimx-21)+k,j] > maxscore) {\n",
    "                        maxscore = score[(l-1)*(dimx-21)+k,j]\n",
    "                        maxx = l\n",
    "                        maxy = k\n",
    "                    }\n",
    "                }\n",
    "                \n",
    "            \n",
    "        }\n",
    "    }\n",
    "    return(score)\n",
    "}\n",
    "\n"
   ]
  },
  {
   "cell_type": "code",
   "execution_count": 10,
   "metadata": {
    "collapsed": false,
    "deletable": true,
    "editable": true
   },
   "outputs": [],
   "source": [
    "# get the y as our targets of the model\n",
    "getthey = function(y){\n",
    "    v1 = NULL\n",
    "    v2 = NULL\n",
    "    y = as.vector(y)\n",
    "    featureno = 1\n",
    "    for (i in 1:featureno){\n",
    "        v1 = c(v1,y[i*2-1])\n",
    "        v2 = c(v2,y[i*2])\n",
    "    }\n",
    "    aa = matrix(0,nrow=2,ncol=1)\n",
    "    y = rbind(v1,v2)\n",
    "    for (i in 1:2)\n",
    "        for (j in 1:1){\n",
    "            aa[i,j] = as.numeric(y[i,j])\n",
    "    }\n",
    "    return(aa)\n",
    "}\n",
    "#getthey(c(1,2,3,4,5,6,7,8,9,10,11,12,13,14,15,16,17,18,19,20,21,22,23,24,25,26,27,28,29,30))\n"
   ]
  },
  {
   "cell_type": "code",
   "execution_count": null,
   "metadata": {
    "collapsed": false,
    "deletable": true,
    "editable": true
   },
   "outputs": [],
   "source": []
  },
  {
   "cell_type": "code",
   "execution_count": 11,
   "metadata": {
    "collapsed": false,
    "deletable": true,
    "editable": true
   },
   "outputs": [
    {
     "data": {
      "text/html": [
       "<ol class=list-inline>\n",
       "\t<li>5625</li>\n",
       "\t<li>1</li>\n",
       "</ol>\n"
      ],
      "text/latex": [
       "\\begin{enumerate*}\n",
       "\\item 5625\n",
       "\\item 1\n",
       "\\end{enumerate*}\n"
      ],
      "text/markdown": [
       "1. 5625\n",
       "2. 1\n",
       "\n",
       "\n"
      ],
      "text/plain": [
       "[1] 5625    1"
      ]
     },
     "metadata": {},
     "output_type": "display_data"
    },
    {
     "data": {
      "text/html": [
       "<ol class=list-inline>\n",
       "\t<li>2</li>\n",
       "\t<li>1</li>\n",
       "</ol>\n"
      ],
      "text/latex": [
       "\\begin{enumerate*}\n",
       "\\item 2\n",
       "\\item 1\n",
       "\\end{enumerate*}\n"
      ],
      "text/markdown": [
       "1. 2\n",
       "2. 1\n",
       "\n",
       "\n"
      ],
      "text/plain": [
       "[1] 2 1"
      ]
     },
     "metadata": {},
     "output_type": "display_data"
    }
   ],
   "source": [
    "# remember to check dimension of the matrixs before you do matrix calculation\n",
    "# remember to run the camparefunction before this and the prediction function\n",
    "dim(getscore(im.test[1,,]))\n",
    "dim(getthey(lb.train[1,]))"
   ]
  },
  {
   "cell_type": "code",
   "execution_count": 12,
   "metadata": {
    "collapsed": true,
    "deletable": true,
    "editable": true
   },
   "outputs": [],
   "source": [
    "# this should be a standaraztion function of all data, but I didnt use it \n",
    "stan_all_f = function(m){\n",
    "    m_new = m\n",
    "    for (j in 1:dims[2]){\n",
    "        means = array(0, dim=c(dims[1],dims[3],dims[4]))\n",
    "        sds = array(0, dim=c(dims[1],dims[3],dims[4]))\n",
    "        for (k in 1:dim[3])\n",
    "            for (l in 1:dim[4]){\n",
    "                means[i,k,l] = mean(m[,j,k,l])\n",
    "                sds[i,k,l] = sd(m[,j,k,l])\n",
    "            }\n",
    "        for (i in 1:dim[1])\n",
    "            for (k in 1:dim[3])\n",
    "                for (l in 1:dim[4]){\n",
    "                    m_new[i,j,k,l] = (m[i,j,k,l] - means[i,k,l])/sds[i,k,l]\n",
    "                }\n",
    "    }\n",
    "    return(m_new)\n",
    "        \n",
    "       \n",
    "}"
   ]
  },
  {
   "cell_type": "code",
   "execution_count": null,
   "metadata": {
    "collapsed": false,
    "deletable": true,
    "editable": true
   },
   "outputs": [],
   "source": []
  },
  {
   "cell_type": "code",
   "execution_count": null,
   "metadata": {
    "collapsed": false,
    "deletable": true,
    "editable": true
   },
   "outputs": [],
   "source": []
  },
  {
   "cell_type": "code",
   "execution_count": null,
   "metadata": {
    "collapsed": false,
    "deletable": true,
    "editable": true
   },
   "outputs": [],
   "source": []
  },
  {
   "cell_type": "code",
   "execution_count": 13,
   "metadata": {
    "collapsed": false,
    "deletable": true,
    "editable": true
   },
   "outputs": [],
   "source": [
    "# train\n",
    "# W is hori inputs is ver y is v\n",
    "# y_pred = W*inputs\n",
    "# error = 1/2*sum((target -y_pred)^2)\n",
    "# sums = alpha*(target - y_pred)*inputs'\n",
    "# W = W - sums"
   ]
  },
  {
   "cell_type": "code",
   "execution_count": 14,
   "metadata": {
    "collapsed": false,
    "deletable": true,
    "editable": true
   },
   "outputs": [],
   "source": [
    "# because the scale of the score function and our targets, the learning rate of our model is fucking low\n",
    "# I store the cost in cost[i], should be decreasing. and this is global variable and actually we dont have to do that\n",
    "\n",
    "trainmodel = function(inputs,target,alpha,W,i){\n",
    "    y_pred = W %*% inputs\n",
    "    error = 1/2*(target - y_pred)%*%t((target - y_pred))/2\n",
    "    cost[i] <<- sum(error)\n",
    "    sums = 0.001*alpha*(y_pred - target) %*% t(inputs)/2\n",
    "    W = W - sums\n",
    "    return(W)\n",
    "}"
   ]
  },
  {
   "cell_type": "code",
   "execution_count": null,
   "metadata": {
    "collapsed": true
   },
   "outputs": [],
   "source": []
  },
  {
   "cell_type": "code",
   "execution_count": null,
   "metadata": {
    "collapsed": false,
    "deletable": true,
    "editable": true
   },
   "outputs": [],
   "source": [
    "# this is for single point test\n",
    "# to see whether the error is decreasing\n",
    "# remember if the error is not decreasing your model is not learning"
   ]
  },
  {
   "cell_type": "code",
   "execution_count": 15,
   "metadata": {
    "collapsed": true,
    "deletable": true,
    "editable": true
   },
   "outputs": [],
   "source": [
    "W = matrix(0,nrow = 2,ncol = 5625)"
   ]
  },
  {
   "cell_type": "code",
   "execution_count": 342,
   "metadata": {
    "collapsed": false,
    "deletable": true,
    "editable": true
   },
   "outputs": [
    {
     "data": {
      "text/html": [
       "<table>\n",
       "<tbody>\n",
       "\t<tr><td>-0.0006447553</td><td>-0.0006486369</td><td>-0.0006361239</td><td>-0.0006090312</td><td>-0.0005727999</td><td>-0.0005661007</td><td>-0.0005605504</td><td>-0.0005551275</td><td>-0.0005501388</td><td>-0.0005678836</td><td>⋯            </td><td>-0.0001744913</td><td>-0.0001769649</td><td>-0.0001721634</td><td>-0.0001669665</td><td>-0.0001549933</td><td>-0.0001775283</td><td>-0.0001615601</td><td>-0.0001166305</td><td>-5.992432e-05</td><td>-5.315822e-05</td></tr>\n",
       "\t<tr><td>-0.0003351636</td><td>-0.0003323953</td><td>-0.0003244809</td><td>-0.0003101375</td><td>-0.0002900275</td><td>-0.0002850564</td><td>-0.0002819454</td><td>-0.0002784150</td><td>-0.0002768326</td><td>-0.0002803209</td><td>⋯            </td><td>-0.0001415300</td><td>-0.0001428395</td><td>-0.0001377366</td><td>-0.0001384813</td><td>-0.0001351582</td><td>-0.0001348179</td><td>-0.0001296698</td><td>-0.0001147675</td><td>-9.428310e-05</td><td>-9.235902e-05</td></tr>\n",
       "</tbody>\n",
       "</table>\n"
      ],
      "text/latex": [
       "\\begin{tabular}{lllllllllllllllllllllllllllllllllllllllllllllllllllllllllllllllllllllllllllllllllllllllllllllllllllllllllllllllllllllllllllllllllllllllllllllllllllllllllllllllllllllllllllllllllllllllllllllllllllllllllllllllllllllllllllllllllllllllllllllllllllllllllllllllllllllllllllllllllllllllllllllllllllllllllllllllllllllllllllllllllllllllllllllllllllllllllllllllllllllllllllllllllllllllllllllllllllllllllllllllllllllllllllllllllllllllllllllllllllllllllllllllllllllllllllllllllllllllllllllllllllllllllllllllllllllllllllllllllllllllllllllllllllllllllllllllllllllllllllllllllllllllllllllllllllllllllllllllllllllllllllllllllllllllllllllllllllllllllllllllllllllllllllllllllllllllllllllllllllllllllllllllllllllllllllllllllllllllllllllllllllllllllllllllllllllllllllllllllllllllllllllllllllllllllllllllllllllllllllllllllllllllllllllllllllllllllllllllllllllllllllllllllllllllllllllllllllllllllllllllllllllllllllllllllllllllllllllllllllllllllllllllllllllllllllllllllllllllllllllllllllllllllllllllllllllllllllllllllllllllllllllllllllllllllllllllllllllllllllllllllllllllllllllllllllllllllllllllllllllllllllllllllllllllllllllllllllllllllllllllllllllllllllllllllllllllllllllllllllllllllllllllllllllllllllllllllllllllllllllllllllllllllllllllllllllllllllllllllllllllllllllllllllllllllllllllllllllllllllllllllllllllllllllllllllllllllllllllllllllllllllllllllllllllllllllllllllllllllllllllllllllllllllllllllllllllllllllllllllllllllllllllllllllllllllllllllllllllllllllllllllllllllllllllllllllllllllllllllllllllllllllllllllllllllllllllllllllllllllllllllllllllllllllllllllllllllllllllllllllllllllllllllllllllllllllllllllllllllllllllllllllllllllllllllllllllllllllllllllllllllllllllllllllllllllllllllllllllllllllllllllllllllllllllllllllllllllllllllllllllllllllllllllllllllllllllllllllllllllllllllllllllllllllllllllllllllllllllllllllllllllllllllllllllllllllllllllllllllllllllllllllllllllllllllllllllllllllllllllllllllllllllllllllllllllllllllllllllllllllllllllllllllllllllllllllllllllllllllllllllllllllllllllllllllllllllllllllllllllllllllllllllllllllllllllllllllllllllllllllllllllllllllllllllllllllllllllllllllllllllllllllllllllllllllllllllllllllllllllllllllllllllllllllllllllllllllllllllllllllllllllllllllllllllllllllllllllllllllllllllllllllllllllllllllllllllllllllllllllllllllllllllllllllllllllllllllllllllllllllllllllllllllllllllllllllllllllllllllllllllllllllllllllllllllllllllllllllllllllllllllllllllllllllllllllllllllllllllllllllllllllllllllllllllllllllllllllllllllllllllllllllllllllllllllllllllllllllllllllllllllllllllllllllllllllllllllllllllllllllllllllllllllllllllllllllllllllllllllllllllllllllllllllllllllllllllllllllllllllllllllllllllllllllllllllllllllllllllllllllllllllllllllllllllllllllllllllllllllllllllllllllllllllllllllllllllllllllllllllllllllllllllllllllllllllllllllllllllllllllllllllllllllllllllllllllllllllllllllllllllllllllllllllllllllllllllllllllllllllllllllllllllllllllllllllllllllllllllllllllllllllllllllllllllllllllllllllllllllllllllllllllllllllllllllllllllllllllllllllllllllllllllllllllllllllllllllllllllllllllllllllllllllllllllllllllllllllllllllllllllllllllllllllllllllllllllllllllllllllllllllllllllllllllllllllllllllllllllllllllllllllllllllllllllllllllllllllllllllllllllllllllllllllllllllllllllllllllllllllllllllllllllllllllllllllllllllllllllllllllllllllllllllllllllllllllllllllllllllllllllllllllllllllllllllllllllllllllllllllllllllllllllllllllllllllllllllllllllllllllllllllllllllllllllllllllllllllllllllllllllllllllllllllllllllllllllllllllllllllllllllllllllllllllllllllllllllllllllllllllllllllllllllllllllllllllllllllllllllllllllllllllllllllllllllllllllllllllllllllllllllllllllllllllllllllllllllllllllllllllllllllllllllllllllllllllllllllllllllllllllllllllllllllllllllllllllllllllllllllllllllllllllllllllllllllllllllllllllllllllllllllllllllllllllllllllllllllllllllllllllllllllllllllllllllllllllllllllllllllllllllllllllllllllllllllllllllllllllllllllllllllllllllllllllllllllllllllllllllllllllllllllllllllllllllllllllllllllllllllllllllllllllllllllllllllllllllllllllllllllllllllllllllllllllllllllllllllllllllllllllllllllllllllllllllllllllllllllllllllllllllllllllllllllllllllllllllllllllllllllllllllllllllllllllllllllllllllllllllllllllllllllllllllllllllllllllllllllllllllllllllllllllllllllllllllllllllllllllllllllllllllllllllllllllllllllllllllllllllllllllllllllllllllllllllllllllllllllllllllllllllllllllllllllllllllllllllllllllllllllllllllllllllllllllllllllllllllllllllllllllllllllllllllllllllllllllllllllllllllllllllllllllllllllllllllllllllllllllllllllllllllllllllllllllllllllllllllllllllllllllllllllllllllllllllllllllllllllllllllllllllllllllllllllllllllllllllllllllllllllllllllllllllllllllllllllllllllllllllllllllllllllllllllllllllllllllllllllllllllllllllllllllllllllllllllllllllllllllllllllllllllllllllllllllllllllllllllllllllllllllllllllllllllllllllllllllllllllllllllllllllllllllllllllllllllllllllllllllllllllllllllllllllllllllllllllllllllllllllllllllllllllllllllllllllllllllllllllllllllllllllllllllllllllllllllllllllllllllllllllllllllllllllllllllllllllllllllllllllllllllllllllllllllllllllllllllllllllllllllllllllllllllllllllllllllllllllllllllllllllllllllllllllllllllllllllllllllllllllllllllllllllllllllllllllllllllllllllllllllllllllllllllllllllllllllllllllllllllllllllllllllllllllllllllllllllllllllllllllllllllllllllllllllllllllllllllllllllllllllllllllllllllllllllllllllllllllllllllllllllllllllllllllllllllllllllllllllllllllllllllllllllllllllllllllllllllllllllllllllllllllllllllllllllllllllllllllllllllllllllllllllllllllllllllllllllllllllllllllllllllllllllllllllllllllllllllllllllllllllllllllllllllllllllllllllllllllllllllllllllllllllllllllllllllllllllllllllllllllllllllllllllllllllllllllllllllllllllllllllllllllllllllllllllllllllllllll}\n",
       "\t -0.0006447553 & -0.0006486369 & -0.0006361239 & -0.0006090312 & -0.0005727999 & -0.0005661007 & -0.0005605504 & -0.0005551275 & -0.0005501388 & -0.0005678836 & ⋯             & -0.0001744913 & -0.0001769649 & -0.0001721634 & -0.0001669665 & -0.0001549933 & -0.0001775283 & -0.0001615601 & -0.0001166305 & -5.992432e-05 & -5.315822e-05\\\\\n",
       "\t -0.0003351636 & -0.0003323953 & -0.0003244809 & -0.0003101375 & -0.0002900275 & -0.0002850564 & -0.0002819454 & -0.0002784150 & -0.0002768326 & -0.0002803209 & ⋯             & -0.0001415300 & -0.0001428395 & -0.0001377366 & -0.0001384813 & -0.0001351582 & -0.0001348179 & -0.0001296698 & -0.0001147675 & -9.428310e-05 & -9.235902e-05\\\\\n",
       "\\end{tabular}\n"
      ],
      "text/markdown": [
       "\n",
       "| -0.0006447553 | -0.0006486369 | -0.0006361239 | -0.0006090312 | -0.0005727999 | -0.0005661007 | -0.0005605504 | -0.0005551275 | -0.0005501388 | -0.0005678836 | ⋯             | -0.0001744913 | -0.0001769649 | -0.0001721634 | -0.0001669665 | -0.0001549933 | -0.0001775283 | -0.0001615601 | -0.0001166305 | -5.992432e-05 | -5.315822e-05 | \n",
       "| -0.0003351636 | -0.0003323953 | -0.0003244809 | -0.0003101375 | -0.0002900275 | -0.0002850564 | -0.0002819454 | -0.0002784150 | -0.0002768326 | -0.0002803209 | ⋯             | -0.0001415300 | -0.0001428395 | -0.0001377366 | -0.0001384813 | -0.0001351582 | -0.0001348179 | -0.0001296698 | -0.0001147675 | -9.428310e-05 | -9.235902e-05 | \n",
       "\n",
       "\n"
      ],
      "text/plain": [
       "     [,1]          [,2]          [,3]          [,4]          [,5]         \n",
       "[1,] -0.0006447553 -0.0006486369 -0.0006361239 -0.0006090312 -0.0005727999\n",
       "[2,] -0.0003351636 -0.0003323953 -0.0003244809 -0.0003101375 -0.0002900275\n",
       "     [,6]          [,7]          [,8]          [,9]          [,10]        \n",
       "[1,] -0.0005661007 -0.0005605504 -0.0005551275 -0.0005501388 -0.0005678836\n",
       "[2,] -0.0002850564 -0.0002819454 -0.0002784150 -0.0002768326 -0.0002803209\n",
       "     [,11] [,12]         [,13]         [,14]         [,15]        \n",
       "[1,] ⋯     -0.0001744913 -0.0001769649 -0.0001721634 -0.0001669665\n",
       "[2,] ⋯     -0.0001415300 -0.0001428395 -0.0001377366 -0.0001384813\n",
       "     [,16]         [,17]         [,18]         [,19]         [,20]        \n",
       "[1,] -0.0001549933 -0.0001775283 -0.0001615601 -0.0001166305 -5.992432e-05\n",
       "[2,] -0.0001351582 -0.0001348179 -0.0001296698 -0.0001147675 -9.428310e-05\n",
       "     [,21]        \n",
       "[1,] -5.315822e-05\n",
       "[2,] -9.235902e-05"
      ]
     },
     "metadata": {},
     "output_type": "display_data"
    },
    {
     "data": {
      "text/html": [
       "<table>\n",
       "<tbody>\n",
       "\t<tr><td>11.84965</td><td>8.71949 </td></tr>\n",
       "\t<tr><td> 8.71949</td><td>6.41618 </td></tr>\n",
       "</tbody>\n",
       "</table>\n"
      ],
      "text/latex": [
       "\\begin{tabular}{ll}\n",
       "\t 11.84965 & 8.71949 \\\\\n",
       "\t  8.71949 & 6.41618 \\\\\n",
       "\\end{tabular}\n"
      ],
      "text/markdown": [
       "\n",
       "| 11.84965 | 8.71949  | \n",
       "|  8.71949 | 6.41618  | \n",
       "\n",
       "\n"
      ],
      "text/plain": [
       "     [,1]     [,2]   \n",
       "[1,] 11.84965 8.71949\n",
       "[2,]  8.71949 6.41618"
      ]
     },
     "metadata": {},
     "output_type": "display_data"
    },
    {
     "data": {
      "text/html": [
       "<table>\n",
       "<tbody>\n",
       "\t<tr><td>63.10514</td></tr>\n",
       "\t<tr><td>34.41553</td></tr>\n",
       "</tbody>\n",
       "</table>\n"
      ],
      "text/latex": [
       "\\begin{tabular}{l}\n",
       "\t 63.10514\\\\\n",
       "\t 34.41553\\\\\n",
       "\\end{tabular}\n"
      ],
      "text/markdown": [
       "\n",
       "| 63.10514 | \n",
       "| 34.41553 | \n",
       "\n",
       "\n"
      ],
      "text/plain": [
       "     [,1]    \n",
       "[1,] 63.10514\n",
       "[2,] 34.41553"
      ]
     },
     "metadata": {},
     "output_type": "display_data"
    }
   ],
   "source": [
    "\n",
    "alpha = 0.000001\n",
    "i = 10 # change the i your self for single point test\n",
    "inputs = getscore(im.train[i,,])\n",
    "target = getthey(lb.train[i,])\n",
    "y_pred = W %*% inputs\n",
    "error = 1/2*(target - y_pred)%*%t((target - y_pred))/2\n",
    "sums = alpha*(y_pred-target) %*% t(inputs)/2\n",
    "W = W - sums\n",
    "W\n",
    "error\n",
    "y_pred"
   ]
  },
  {
   "cell_type": "code",
   "execution_count": null,
   "metadata": {
    "collapsed": false,
    "deletable": true,
    "editable": true
   },
   "outputs": [],
   "source": []
  },
  {
   "cell_type": "code",
   "execution_count": 16,
   "metadata": {
    "collapsed": true,
    "deletable": true,
    "editable": true
   },
   "outputs": [],
   "source": [
    "# get_predict\n",
    "runmodel = function(inputs){\n",
    "    y_pred = W %*% inputs\n",
    "    return(y_pred)\n",
    "}\n"
   ]
  },
  {
   "cell_type": "code",
   "execution_count": 17,
   "metadata": {
    "collapsed": true,
    "deletable": true,
    "editable": true
   },
   "outputs": [],
   "source": [
    "# accuracy\n",
    "# never used\n",
    "costf = function(y_pred,y){\n",
    "    return((y_pred['x'] == y['x']) & (y_pred['y'] == y['y']))\n",
    "}"
   ]
  },
  {
   "cell_type": "code",
   "execution_count": null,
   "metadata": {
    "collapsed": false,
    "deletable": true,
    "editable": true
   },
   "outputs": [],
   "source": []
  },
  {
   "cell_type": "code",
   "execution_count": 18,
   "metadata": {
    "collapsed": false,
    "deletable": true,
    "editable": true
   },
   "outputs": [],
   "source": [
    "# the fucking NA becoming a problem when we do matrix muiltiply\n",
    "# need someone to help to deal with the fucking NAs\n",
    "isnotna =function(a){\n",
    "    flag = TRUE\n",
    "    for (i in dim(a)[1]){\n",
    "        for (j in dim(a)[2]){\n",
    "            if (is.na(a[i,j])) {\n",
    "                flag = FALSE\n",
    "                return(flag)\n",
    "            }\n",
    "        }\n",
    "    }\n",
    "    return(flag)\n",
    "}"
   ]
  },
  {
   "cell_type": "code",
   "execution_count": 67,
   "metadata": {
    "collapsed": false,
    "deletable": true,
    "editable": true
   },
   "outputs": [
    {
     "data": {
      "text/html": [
       "<table>\n",
       "<tbody>\n",
       "\t<tr><td>-0.0005228201</td><td>-0.0005143706</td><td>-0.0005024585</td><td>-0.0004916749</td><td>-0.0004805410</td><td>-0.0004736444</td><td>-0.0004664993</td><td>-0.0004605001</td><td>-0.0004413388</td><td>-0.0004252870</td><td>⋯            </td><td>-0.0003683067</td><td>-0.0003725884</td><td>-0.0003757596</td><td>-0.0003801393</td><td>-0.0003839489</td><td>-0.0003893601</td><td>-0.0003992441</td><td>-0.0004002317</td><td>-0.0004042412</td><td>-0.0004144476</td></tr>\n",
       "\t<tr><td>-0.0003585915</td><td>-0.0003538409</td><td>-0.0003449360</td><td>-0.0003374007</td><td>-0.0003307162</td><td>-0.0003274106</td><td>-0.0003248295</td><td>-0.0003225737</td><td>-0.0003104744</td><td>-0.0003008704</td><td>⋯            </td><td>-0.0002479432</td><td>-0.0002500823</td><td>-0.0002519272</td><td>-0.0002560631</td><td>-0.0002609426</td><td>-0.0002687822</td><td>-0.0002806718</td><td>-0.0002813176</td><td>-0.0002858445</td><td>-0.0002960932</td></tr>\n",
       "</tbody>\n",
       "</table>\n"
      ],
      "text/latex": [
       "\\begin{tabular}{lllllllllllllllllllllllllllllllllllllllllllllllllllllllllllllllllllllllllllllllllllllllllllllllllllllllllllllllllllllllllllllllllllllllllllllllllllllllllllllllllllllllllllllllllllllllllllllllllllllllllllllllllllllllllllllllllllllllllllllllllllllllllllllllllllllllllllllllllllllllllllllllllllllllllllllllllllllllllllllllllllllllllllllllllllllllllllllllllllllllllllllllllllllllllllllllllllllllllllllllllllllllllllllllllllllllllllllllllllllllllllllllllllllllllllllllllllllllllllllllllllllllllllllllllllllllllllllllllllllllllllllllllllllllllllllllllllllllllllllllllllllllllllllllllllllllllllllllllllllllllllllllllllllllllllllllllllllllllllllllllllllllllllllllllllllllllllllllllllllllllllllllllllllllllllllllllllllllllllllllllllllllllllllllllllllllllllllllllllllllllllllllllllllllllllllllllllllllllllllllllllllllllllllllllllllllllllllllllllllllllllllllllllllllllllllllllllllllllllllllllllllllllllllllllllllllllllllllllllllllllllllllllllllllllllllllllllllllllllllllllllllllllllllllllllllllllllllllllllllllllllllllllllllllllllllllllllllllllllllllllllllllllllllllllllllllllllllllllllllllllllllllllllllllllllllllllllllllllllllllllllllllllllllllllllllllllllllllllllllllllllllllllllllllllllllllllllllllllllllllllllllllllllllllllllllllllllllllllllllllllllllllllllllllllllllllllllllllllllllllllllllllllllllllllllllllllllllllllllllllllllllllllllllllllllllllllllllllllllllllllllllllllllllllllllllllllllllllllllllllllllllllllllllllllllllllllllllllllllllllllllllllllllllllllllllllllllllllllllllllllllllllllllllllllllllllllllllllllllllllllllllllllllllllllllllllllllllllllllllllllllllllllllllllllllllllllllllllllllllllllllllllllllllllllllllllllllllllllllllllllllllllllllllllllllllllllllllllllllllllllllllllllllllllllllllllllllllllllllllllllllllllllllllllllllllllllllllllllllllllllllllllllllllllllllllllllllllllllllllllllllllllllllllllllllllllllllllllllllllllllllllllllllllllllllllllllllllllllllllllllllllllllllllllllllllllllllllllllllllllllllllllllllllllllllllllllllllllllllllllllllllllllllllllllllllllllllllllllllllllllllllllllllllllllllllllllllllllllllllllllllllllllllllllllllllllllllllllllllllllllllllllllllllllllllllllllllllllllllllllllllllllllllllllllllllllllllllllllllllllllllllllllllllllllllllllllllllllllllllllllllllllllllllllllllllllllllllllllllllllllllllllllllllllllllllllllllllllllllllllllllllllllllllllllllllllllllllllllllllllllllllllllllllllllllllllllllllllllllllllllllllllllllllllllllllllllllllllllllllllllllllllllllllllllllllllllllllllllllllllllllllllllllllllllllllllllllllllllllllllllllllllllllllllllllllllllllllllllllllllllllllllllllllllllllllllllllllllllllllllllllllllllllllllllllllllllllllllllllllllllllllllllllllllllllllllllllllllllllllllllllllllllllllllllllllllllllllllllllllllllllllllllllllllllllllllllllllllllllllllllllllllllllllllllllllllllllllllllllllllllllllllllllllllllllllllllllllllllllllllllllllllllllllllllllllllllllllllllllllllllllllllllllllllllllllllllllllllllllllllllllllllllllllllllllllllllllllllllllllllllllllllllllllllllllllllllllllllllllllllllllllllllllllllllllllllllllllllllllllllllllllllllllllllllllllllllllllllllllllllllllllllllllllllllllllllllllllllllllllllllllllllllllllllllllllllllllllllllllllllllllllllllllllllllllllllllllllllllllllllllllllllllllllllllllllllllllllllllllllllllllllllllllllllllllllllllllllllllllllllllllllllllllllllllllllllllllllllllllllllllllllllllllllllllllllllllllllllllllllllllllllllllllllllllllllllllllllllllllllllllllllllllllllllllllllllllllllllllllllllllllllllllllllllllllllllllllllllllllllllllllllllllllllllllllllllllllllllllllllllllllllllllllllllllllllllllllllllllllllllllllllllllllllllllllllllllllllllllllllllllllllllllllllllllllllllllllllllllllllllllllllllllllllllllllllllllllllllllllllllllllllllllllllllllllllllllllllllllllllllllllllllllllllllllllllllllllllllllllllllllllllllllllllllllllllllllllllllllllllllllllllllllllllllllllllllllllllllllllllllllllllllllllllllllllllllllllllllllllllllllllllllllllllllllllllllllllllllllllllllllllllllllllllllllllllllllllllllllllllllllllllllllllllllllllllllllllllllllllllllllllllllllllllllllllllllllllllllllllllllllllllllllllllllllllllllllllllllllllllllllllllllllllllllllllllllllllllllllllllllllllllllllllllllllllllllllllllllllllllllllllllllllllllllllllllllllllllllllllllllllllllllllllllllllllllllllllllllllllllllllllllllllllllllllllllllllllllllllllllllllllllllllllllllllllllllllllllllllllllllllllllllllllllllllllllllllllllllllllllllllllllllllllllllllllllllllllllllllllllllllllllllllllllllllllllllllllllllllllllllllllllllllllllllllllllllllllllllllllllllllllllllllllllllllllllllllllllllllllllllllllllllllllllllllllllllllllllllllllllllllllllllllllllllllllllllllllllllllllllllllllllllllllllllllllllllllllllllllllllllllllllllllllllllllllllllllllllllllllllllllllllllllllllllllllllllllllllllllllllllllllllllllllllllllllllllllllllllllllllllllllllllllllllllllllllllllllllllllllllllllllllllllllllllllllllllllllllllllllllllllllllllllllllllllllllllllllllllllllllllllllllllllllllllllllllllllllllllllllllllllllllllllllllllllllllllllllllllllllllllllllllllllllllllllllllllllllllllllllllllllllllllllllllllllllllllllllllllllllllllllllllllllllllllllllllllllllllllllllllllllllllllllllllllllllllllllllllllllllllllllllllllllllllllllllllllllllllllllllllllllllllllllllllllllllllllllllllllllllllllllllllllllllllllllllllllllllllllllllllllllllllllllllllllllllllllllllllllllllllllllllllllllllllllllllllllllllllllllllllllllllllllllllllllllllllllllllllllllllllllllllllllllllllllllllllllllllllllllllllllllllllllllllllllllllllllllllllllllllllllllllllllllllllllllllllllllllllllllllllllllllllllllllllllllllllllllllllllllllllllllllllllllllllllllllllllllllllllllllllllllllllllllllllllllllllllllllllllllllllllllllllllllllllllllllllllllllllllllllllllllllllllllllllllllllllllll}\n",
       "\t -0.0005228201 & -0.0005143706 & -0.0005024585 & -0.0004916749 & -0.0004805410 & -0.0004736444 & -0.0004664993 & -0.0004605001 & -0.0004413388 & -0.0004252870 & ⋯             & -0.0003683067 & -0.0003725884 & -0.0003757596 & -0.0003801393 & -0.0003839489 & -0.0003893601 & -0.0003992441 & -0.0004002317 & -0.0004042412 & -0.0004144476\\\\\n",
       "\t -0.0003585915 & -0.0003538409 & -0.0003449360 & -0.0003374007 & -0.0003307162 & -0.0003274106 & -0.0003248295 & -0.0003225737 & -0.0003104744 & -0.0003008704 & ⋯             & -0.0002479432 & -0.0002500823 & -0.0002519272 & -0.0002560631 & -0.0002609426 & -0.0002687822 & -0.0002806718 & -0.0002813176 & -0.0002858445 & -0.0002960932\\\\\n",
       "\\end{tabular}\n"
      ],
      "text/markdown": [
       "\n",
       "| -0.0005228201 | -0.0005143706 | -0.0005024585 | -0.0004916749 | -0.0004805410 | -0.0004736444 | -0.0004664993 | -0.0004605001 | -0.0004413388 | -0.0004252870 | ⋯             | -0.0003683067 | -0.0003725884 | -0.0003757596 | -0.0003801393 | -0.0003839489 | -0.0003893601 | -0.0003992441 | -0.0004002317 | -0.0004042412 | -0.0004144476 | \n",
       "| -0.0003585915 | -0.0003538409 | -0.0003449360 | -0.0003374007 | -0.0003307162 | -0.0003274106 | -0.0003248295 | -0.0003225737 | -0.0003104744 | -0.0003008704 | ⋯             | -0.0002479432 | -0.0002500823 | -0.0002519272 | -0.0002560631 | -0.0002609426 | -0.0002687822 | -0.0002806718 | -0.0002813176 | -0.0002858445 | -0.0002960932 | \n",
       "\n",
       "\n"
      ],
      "text/plain": [
       "     [,1]          [,2]          [,3]          [,4]          [,5]         \n",
       "[1,] -0.0005228201 -0.0005143706 -0.0005024585 -0.0004916749 -0.0004805410\n",
       "[2,] -0.0003585915 -0.0003538409 -0.0003449360 -0.0003374007 -0.0003307162\n",
       "     [,6]          [,7]          [,8]          [,9]          [,10]        \n",
       "[1,] -0.0004736444 -0.0004664993 -0.0004605001 -0.0004413388 -0.0004252870\n",
       "[2,] -0.0003274106 -0.0003248295 -0.0003225737 -0.0003104744 -0.0003008704\n",
       "     [,11] [,12]         [,13]         [,14]         [,15]        \n",
       "[1,] ⋯     -0.0003683067 -0.0003725884 -0.0003757596 -0.0003801393\n",
       "[2,] ⋯     -0.0002479432 -0.0002500823 -0.0002519272 -0.0002560631\n",
       "     [,16]         [,17]         [,18]         [,19]         [,20]        \n",
       "[1,] -0.0003839489 -0.0003893601 -0.0003992441 -0.0004002317 -0.0004042412\n",
       "[2,] -0.0002609426 -0.0002687822 -0.0002806718 -0.0002813176 -0.0002858445\n",
       "     [,21]        \n",
       "[1,] -0.0004144476\n",
       "[2,] -0.0002960932"
      ]
     },
     "metadata": {},
     "output_type": "display_data"
    },
    {
     "data": {
      "text/html": [
       "<table>\n",
       "<tbody>\n",
       "\t<tr><td>216049.03</td></tr>\n",
       "\t<tr><td>218523.20</td></tr>\n",
       "\t<tr><td>157225.01</td></tr>\n",
       "\t<tr><td>101386.24</td></tr>\n",
       "\t<tr><td>100158.53</td></tr>\n",
       "\t<tr><td>100503.18</td></tr>\n",
       "\t<tr><td>177506.26</td></tr>\n",
       "\t<tr><td>118660.89</td></tr>\n",
       "\t<tr><td> 91799.80</td></tr>\n",
       "\t<tr><td> 93562.81</td></tr>\n",
       "\t<tr><td> 93070.25</td></tr>\n",
       "\t<tr><td> 94190.93</td></tr>\n",
       "\t<tr><td>114508.89</td></tr>\n",
       "\t<tr><td>118055.69</td></tr>\n",
       "\t<tr><td>137283.96</td></tr>\n",
       "\t<tr><td> 87226.62</td></tr>\n",
       "\t<tr><td>107359.70</td></tr>\n",
       "\t<tr><td>136571.34</td></tr>\n",
       "\t<tr><td> 63738.02</td></tr>\n",
       "\t<tr><td> 84444.73</td></tr>\n",
       "\t<tr><td> 84580.67</td></tr>\n",
       "\t<tr><td> 82231.07</td></tr>\n",
       "\t<tr><td> 61602.49</td></tr>\n",
       "\t<tr><td> 84136.74</td></tr>\n",
       "\t<tr><td> 90490.73</td></tr>\n",
       "\t<tr><td> 79429.64</td></tr>\n",
       "\t<tr><td> 62052.63</td></tr>\n",
       "\t<tr><td> 74878.76</td></tr>\n",
       "\t<tr><td> 97630.48</td></tr>\n",
       "\t<tr><td> 64969.33</td></tr>\n",
       "\t<tr><td>⋮</td></tr>\n",
       "\t<tr><td>  0.11405231</td></tr>\n",
       "\t<tr><td>  3.66644789</td></tr>\n",
       "\t<tr><td> 22.51870116</td></tr>\n",
       "\t<tr><td> 73.30191438</td></tr>\n",
       "\t<tr><td>146.80963329</td></tr>\n",
       "\t<tr><td> 29.98544653</td></tr>\n",
       "\t<tr><td>  6.23682898</td></tr>\n",
       "\t<tr><td>  2.15595975</td></tr>\n",
       "\t<tr><td> 72.55249745</td></tr>\n",
       "\t<tr><td>223.87447214</td></tr>\n",
       "\t<tr><td>  4.47897670</td></tr>\n",
       "\t<tr><td>  4.87097409</td></tr>\n",
       "\t<tr><td> 49.06917068</td></tr>\n",
       "\t<tr><td>  0.02708003</td></tr>\n",
       "\t<tr><td> 13.12732343</td></tr>\n",
       "\t<tr><td>  8.22129138</td></tr>\n",
       "\t<tr><td>  0.11368824</td></tr>\n",
       "\t<tr><td>158.21586700</td></tr>\n",
       "\t<tr><td> 46.09765409</td></tr>\n",
       "\t<tr><td>  1.92282587</td></tr>\n",
       "\t<tr><td>  7.57322339</td></tr>\n",
       "\t<tr><td>  2.95204781</td></tr>\n",
       "\t<tr><td>  4.76983889</td></tr>\n",
       "\t<tr><td> 42.38790731</td></tr>\n",
       "\t<tr><td> 76.62116096</td></tr>\n",
       "\t<tr><td>  7.22975382</td></tr>\n",
       "\t<tr><td>136.05648702</td></tr>\n",
       "\t<tr><td> 45.85344072</td></tr>\n",
       "\t<tr><td> 20.44802506</td></tr>\n",
       "\t<tr><td>  0.04587453</td></tr>\n",
       "</tbody>\n",
       "</table>\n"
      ],
      "text/latex": [
       "\\begin{tabular}{l}\n",
       "\t 216049.03\\\\\n",
       "\t 218523.20\\\\\n",
       "\t 157225.01\\\\\n",
       "\t 101386.24\\\\\n",
       "\t 100158.53\\\\\n",
       "\t 100503.18\\\\\n",
       "\t 177506.26\\\\\n",
       "\t 118660.89\\\\\n",
       "\t  91799.80\\\\\n",
       "\t  93562.81\\\\\n",
       "\t  93070.25\\\\\n",
       "\t  94190.93\\\\\n",
       "\t 114508.89\\\\\n",
       "\t 118055.69\\\\\n",
       "\t 137283.96\\\\\n",
       "\t  87226.62\\\\\n",
       "\t 107359.70\\\\\n",
       "\t 136571.34\\\\\n",
       "\t  63738.02\\\\\n",
       "\t  84444.73\\\\\n",
       "\t  84580.67\\\\\n",
       "\t  82231.07\\\\\n",
       "\t  61602.49\\\\\n",
       "\t  84136.74\\\\\n",
       "\t  90490.73\\\\\n",
       "\t  79429.64\\\\\n",
       "\t  62052.63\\\\\n",
       "\t  74878.76\\\\\n",
       "\t  97630.48\\\\\n",
       "\t  64969.33\\\\\n",
       "\t ⋮\\\\\n",
       "\t   0.11405231\\\\\n",
       "\t   3.66644789\\\\\n",
       "\t  22.51870116\\\\\n",
       "\t  73.30191438\\\\\n",
       "\t 146.80963329\\\\\n",
       "\t  29.98544653\\\\\n",
       "\t   6.23682898\\\\\n",
       "\t   2.15595975\\\\\n",
       "\t  72.55249745\\\\\n",
       "\t 223.87447214\\\\\n",
       "\t   4.47897670\\\\\n",
       "\t   4.87097409\\\\\n",
       "\t  49.06917068\\\\\n",
       "\t   0.02708003\\\\\n",
       "\t  13.12732343\\\\\n",
       "\t   8.22129138\\\\\n",
       "\t   0.11368824\\\\\n",
       "\t 158.21586700\\\\\n",
       "\t  46.09765409\\\\\n",
       "\t   1.92282587\\\\\n",
       "\t   7.57322339\\\\\n",
       "\t   2.95204781\\\\\n",
       "\t   4.76983889\\\\\n",
       "\t  42.38790731\\\\\n",
       "\t  76.62116096\\\\\n",
       "\t   7.22975382\\\\\n",
       "\t 136.05648702\\\\\n",
       "\t  45.85344072\\\\\n",
       "\t  20.44802506\\\\\n",
       "\t   0.04587453\\\\\n",
       "\\end{tabular}\n"
      ],
      "text/markdown": [
       "\n",
       "| 216049.03 | \n",
       "| 218523.20 | \n",
       "| 157225.01 | \n",
       "| 101386.24 | \n",
       "| 100158.53 | \n",
       "| 100503.18 | \n",
       "| 177506.26 | \n",
       "| 118660.89 | \n",
       "|  91799.80 | \n",
       "|  93562.81 | \n",
       "|  93070.25 | \n",
       "|  94190.93 | \n",
       "| 114508.89 | \n",
       "| 118055.69 | \n",
       "| 137283.96 | \n",
       "|  87226.62 | \n",
       "| 107359.70 | \n",
       "| 136571.34 | \n",
       "|  63738.02 | \n",
       "|  84444.73 | \n",
       "|  84580.67 | \n",
       "|  82231.07 | \n",
       "|  61602.49 | \n",
       "|  84136.74 | \n",
       "|  90490.73 | \n",
       "|  79429.64 | \n",
       "|  62052.63 | \n",
       "|  74878.76 | \n",
       "|  97630.48 | \n",
       "|  64969.33 | \n",
       "| ⋮ | \n",
       "|   0.11405231 | \n",
       "|   3.66644789 | \n",
       "|  22.51870116 | \n",
       "|  73.30191438 | \n",
       "| 146.80963329 | \n",
       "|  29.98544653 | \n",
       "|   6.23682898 | \n",
       "|   2.15595975 | \n",
       "|  72.55249745 | \n",
       "| 223.87447214 | \n",
       "|   4.47897670 | \n",
       "|   4.87097409 | \n",
       "|  49.06917068 | \n",
       "|   0.02708003 | \n",
       "|  13.12732343 | \n",
       "|   8.22129138 | \n",
       "|   0.11368824 | \n",
       "| 158.21586700 | \n",
       "|  46.09765409 | \n",
       "|   1.92282587 | \n",
       "|   7.57322339 | \n",
       "|   2.95204781 | \n",
       "|   4.76983889 | \n",
       "|  42.38790731 | \n",
       "|  76.62116096 | \n",
       "|   7.22975382 | \n",
       "| 136.05648702 | \n",
       "|  45.85344072 | \n",
       "|  20.44802506 | \n",
       "|   0.04587453 | \n",
       "\n",
       "\n"
      ],
      "text/plain": [
       "      [,1]        \n",
       " [1,] 216049.03   \n",
       " [2,] 218523.20   \n",
       " [3,] 157225.01   \n",
       " [4,] 101386.24   \n",
       " [5,] 100158.53   \n",
       " [6,] 100503.18   \n",
       " [7,] 177506.26   \n",
       " [8,] 118660.89   \n",
       " [9,]  91799.80   \n",
       "[10,]  93562.81   \n",
       "[11,]  93070.25   \n",
       "[12,]  94190.93   \n",
       "[13,] 114508.89   \n",
       "[14,] 118055.69   \n",
       "[15,] 137283.96   \n",
       "[16,]  87226.62   \n",
       "[17,] 107359.70   \n",
       "[18,] 136571.34   \n",
       "[19,]  63738.02   \n",
       "[20,]  84444.73   \n",
       "[21,]  84580.67   \n",
       "[22,]  82231.07   \n",
       "[23,]  61602.49   \n",
       "[24,]  84136.74   \n",
       "[25,]  90490.73   \n",
       "[26,]  79429.64   \n",
       "[27,]  62052.63   \n",
       "[28,]  74878.76   \n",
       "[29,]  97630.48   \n",
       "[30,]  64969.33   \n",
       "[31,] ⋮           \n",
       "[32,]   0.11405231\n",
       "[33,]   3.66644789\n",
       "[34,]  22.51870116\n",
       "[35,]  73.30191438\n",
       "[36,] 146.80963329\n",
       "[37,]  29.98544653\n",
       "[38,]   6.23682898\n",
       "[39,]   2.15595975\n",
       "[40,]  72.55249745\n",
       "[41,] 223.87447214\n",
       "[42,]   4.47897670\n",
       "[43,]   4.87097409\n",
       "[44,]  49.06917068\n",
       "[45,]   0.02708003\n",
       "[46,]  13.12732343\n",
       "[47,]   8.22129138\n",
       "[48,]   0.11368824\n",
       "[49,] 158.21586700\n",
       "[50,]  46.09765409\n",
       "[51,]   1.92282587\n",
       "[52,]   7.57322339\n",
       "[53,]   2.95204781\n",
       "[54,]   4.76983889\n",
       "[55,]  42.38790731\n",
       "[56,]  76.62116096\n",
       "[57,]   7.22975382\n",
       "[58,] 136.05648702\n",
       "[59,]  45.85344072\n",
       "[60,]  20.44802506\n",
       "[61,]   0.04587453"
      ]
     },
     "metadata": {},
     "output_type": "display_data"
    }
   ],
   "source": [
    "# get the scores\n",
    "# seperate the inputs into batchs\n",
    "W = matrix(0.001,nrow = 2,ncol = 5625)# set to be small\n",
    "inum = 5600 # total number to train\n",
    "assign(\"cost\", matrix(0,nrow=inum,ncol=1), envir = .GlobalEnv) # this is for global variable\n",
    "alpha = 1e-06\n",
    "# train one by one\n",
    "for (i in (1:inum)){\n",
    "    inputx = getscore(im.train[i,,])\n",
    "    target = getthey(lb.train[i,])\n",
    "    if (isnotna(target)) {\n",
    "        W = trainmodel(inputx,getthey(lb.train[i,]),alpha,W,i)\n",
    "    }\n",
    "    \n",
    "    \n",
    "}\n",
    "# get the final weights\n",
    "W\n",
    "# get the cost\n",
    "cost\n",
    "\n"
   ]
  },
  {
   "cell_type": "code",
   "execution_count": null,
   "metadata": {
    "collapsed": true
   },
   "outputs": [],
   "source": []
  },
  {
   "cell_type": "code",
   "execution_count": 68,
   "metadata": {
    "collapsed": false
   },
   "outputs": [
    {
     "data": {
      "text/html": [
       "'alpha-1e-06num-5600.Rd'"
      ],
      "text/latex": [
       "'alpha-1e-06num-5600.Rd'"
      ],
      "text/markdown": [
       "'alpha-1e-06num-5600.Rd'"
      ],
      "text/plain": [
       "[1] \"alpha-1e-06num-5600.Rd\""
      ]
     },
     "metadata": {},
     "output_type": "display_data"
    }
   ],
   "source": [
    "# save the model\n",
    "nameofmodel = paste(c(\"alpha-\",alpha,\"num-\",i,\".Rd\"),collapse = '')\n",
    "nameofmodel\n",
    "save(W,cost,i,alpha,file=nameofmodel)"
   ]
  },
  {
   "cell_type": "code",
   "execution_count": 71,
   "metadata": {
    "collapsed": false
   },
   "outputs": [
    {
     "data": {
      "text/html": [
       "<table>\n",
       "<tbody>\n",
       "\t<tr><td>-0.0005228201</td><td>-0.0005143706</td><td>-0.0005024585</td><td>-0.0004916749</td><td>-0.0004805410</td><td>-0.0004736444</td><td>-0.0004664993</td><td>-0.0004605001</td><td>-0.0004413388</td><td>-0.0004252870</td><td>⋯            </td><td>-0.0003683067</td><td>-0.0003725884</td><td>-0.0003757596</td><td>-0.0003801393</td><td>-0.0003839489</td><td>-0.0003893601</td><td>-0.0003992441</td><td>-0.0004002317</td><td>-0.0004042412</td><td>-0.0004144476</td></tr>\n",
       "\t<tr><td>-0.0003585915</td><td>-0.0003538409</td><td>-0.0003449360</td><td>-0.0003374007</td><td>-0.0003307162</td><td>-0.0003274106</td><td>-0.0003248295</td><td>-0.0003225737</td><td>-0.0003104744</td><td>-0.0003008704</td><td>⋯            </td><td>-0.0002479432</td><td>-0.0002500823</td><td>-0.0002519272</td><td>-0.0002560631</td><td>-0.0002609426</td><td>-0.0002687822</td><td>-0.0002806718</td><td>-0.0002813176</td><td>-0.0002858445</td><td>-0.0002960932</td></tr>\n",
       "</tbody>\n",
       "</table>\n"
      ],
      "text/latex": [
       "\\begin{tabular}{lllllllllllllllllllllllllllllllllllllllllllllllllllllllllllllllllllllllllllllllllllllllllllllllllllllllllllllllllllllllllllllllllllllllllllllllllllllllllllllllllllllllllllllllllllllllllllllllllllllllllllllllllllllllllllllllllllllllllllllllllllllllllllllllllllllllllllllllllllllllllllllllllllllllllllllllllllllllllllllllllllllllllllllllllllllllllllllllllllllllllllllllllllllllllllllllllllllllllllllllllllllllllllllllllllllllllllllllllllllllllllllllllllllllllllllllllllllllllllllllllllllllllllllllllllllllllllllllllllllllllllllllllllllllllllllllllllllllllllllllllllllllllllllllllllllllllllllllllllllllllllllllllllllllllllllllllllllllllllllllllllllllllllllllllllllllllllllllllllllllllllllllllllllllllllllllllllllllllllllllllllllllllllllllllllllllllllllllllllllllllllllllllllllllllllllllllllllllllllllllllllllllllllllllllllllllllllllllllllllllllllllllllllllllllllllllllllllllllllllllllllllllllllllllllllllllllllllllllllllllllllllllllllllllllllllllllllllllllllllllllllllllllllllllllllllllllllllllllllllllllllllllllllllllllllllllllllllllllllllllllllllllllllllllllllllllllllllllllllllllllllllllllllllllllllllllllllllllllllllllllllllllllllllllllllllllllllllllllllllllllllllllllllllllllllllllllllllllllllllllllllllllllllllllllllllllllllllllllllllllllllllllllllllllllllllllllllllllllllllllllllllllllllllllllllllllllllllllllllllllllllllllllllllllllllllllllllllllllllllllllllllllllllllllllllllllllllllllllllllllllllllllllllllllllllllllllllllllllllllllllllllllllllllllllllllllllllllllllllllllllllllllllllllllllllllllllllllllllllllllllllllllllllllllllllllllllllllllllllllllllllllllllllllllllllllllllllllllllllllllllllllllllllllllllllllllllllllllllllllllllllllllllllllllllllllllllllllllllllllllllllllllllllllllllllllllllllllllllllllllllllllllllllllllllllllllllllllllllllllllllllllllllllllllllllllllllllllllllllllllllllllllllllllllllllllllllllllllllllllllllllllllllllllllllllllllllllllllllllllllllllllllllllllllllllllllllllllllllllllllllllllllllllllllllllllllllllllllllllllllllllllllllllllllllllllllllllllllllllllllllllllllllllllllllllllllllllllllllllllllllllllllllllllllllllllllllllllllllllllllllllllllllllllllllllllllllllllllllllllllllllllllllllllllllllllllllllllllllllllllllllllllllllllllllllllllllllllllllllllllllllllllllllllllllllllllllllllllllllllllllllllllllllllllllllllllllllllllllllllllllllllllllllllllllllllllllllllllllllllllllllllllllllllllllllllllllllllllllllllllllllllllllllllllllllllllllllllllllllllllllllllllllllllllllllllllllllllllllllllllllllllllllllllllllllllllllllllllllllllllllllllllllllllllllllllllllllllllllllllllllllllllllllllllllllllllllllllllllllllllllllllllllllllllllllllllllllllllllllllllllllllllllllllllllllllllllllllllllllllllllllllllllllllllllllllllllllllllllllllllllllllllllllllllllllllllllllllllllllllllllllllllllllllllllllllllllllllllllllllllllllllllllllllllllllllllllllllllllllllllllllllllllllllllllllllllllllllllllllllllllllllllllllllllllllllllllllllllllllllllllllllllllllllllllllllllllllllllllllllllllllllllllllllllllllllllllllllllllllllllllllllllllllllllllllllllllllllllllllllllllllllllllllllllllllllllllllllllllllllllllllllllllllllllllllllllllllllllllllllllllllllllllllllllllllllllllllllllllllllllllllllllllllllllllllllllllllllllllllllllllllllllllllllllllllllllllllllllllllllllllllllllllllllllllllllllllllllllllllllllllllllllllllllllllllllllllllllllllllllllllllllllllllllllllllllllllllllllllllllllllllllllllllllllllllllllllllllllllllllllllllllllllllllllllllllllllllllllllllllllllllllllllllllllllllllllllllllllllllllllllllllllllllllllllllllllllllllllllllllllllllllllllllllllllllllllllllllllllllllllllllllllllllllllllllllllllllllllllllllllllllllllllllllllllllllllllllllllllllllllllllllllllllllllllllllllllllllllllllllllllllllllllllllllllllllllllllllllllllllllllllllllllllllllllllllllllllllllllllllllllllllllllllllllllllllllllllllllllllllllllllllllllllllllllllllllllllllllllllllllllllllllllllllllllllllllllllllllllllllllllllllllllllllllllllllllllllllllllllllllllllllllllllllllllllllllllllllllllllllllllllllllllllllllllllllllllllllllllllllllllllllllllllllllllllllllllllllllllllllllllllllllllllllllllllllllllllllllllllllllllllllllllllllllllllllllllllllllllllllllllllllllllllllllllllllllllllllllllllllllllllllllllllllllllllllllllllllllllllllllllllllllllllllllllllllllllllllllllllllllllllllllllllllllllllllllllllllllllllllllllllllllllllllllllllllllllllllllllllllllllllllllllllllllllllllllllllllllllllllllllllllllllllllllllllllllllllllllllllllllllllllllllllllllllllllllllllllllllllllllllllllllllllllllllllllllllllllllllllllllllllllllllllllllllllllllllllllllllllllllllllllllllllllllllllllllllllllllllllllllllllllllllllllllllllllllllllllllllllllllllllllllllllllllllllllllllllllllllllllllllllllllllllllllllllllllllllllllllllllllllllllllllllllllllllllllllllllllllllllllllllllllllllllllllllllllllllllllllllllllllllllllllllllllllllllllllllllllllllllllllllllllllllllllllllllllllllllllllllllllllllllllllllllllllllllllllllllllllllllllllllllllllllllllllllllllllllllllllllllllllllllllllllllllllllllllllllllllllllllllllllllllllllllllllllllllllllllllllllllllllllllllllllllllllllllllllllllllllllllllllllllllllllllllllllllllllllllllllllllllllllllllllllllllllllllllllllllllllllllllllllllllllllllllllllllllllllllllllllllllllllllllllllllllllllllllllllllllllllllllllllllllllllllllllllllllllllllllllllllllllllllllllllllllllllllllllllllllllllllllllllllllllllllllllllllllllllllllllllllllllllllllllllllllllllllllllllllllllllllllllllllllllllllllllllllllllllllllllllllllllllllllllllllllllllllllllllllllllllllllllllllllllllllllllllllllllllllllllllllllllllllllllllllllllllllllllllllllllllllllllllllllllllllllllllllllllllllllllllllllllllllllllllllllllllllllllllllllllllllllllllllllllllllllllllllllllllllllllllllllllllllllllllllllllllllllll}\n",
       "\t -0.0005228201 & -0.0005143706 & -0.0005024585 & -0.0004916749 & -0.0004805410 & -0.0004736444 & -0.0004664993 & -0.0004605001 & -0.0004413388 & -0.0004252870 & ⋯             & -0.0003683067 & -0.0003725884 & -0.0003757596 & -0.0003801393 & -0.0003839489 & -0.0003893601 & -0.0003992441 & -0.0004002317 & -0.0004042412 & -0.0004144476\\\\\n",
       "\t -0.0003585915 & -0.0003538409 & -0.0003449360 & -0.0003374007 & -0.0003307162 & -0.0003274106 & -0.0003248295 & -0.0003225737 & -0.0003104744 & -0.0003008704 & ⋯             & -0.0002479432 & -0.0002500823 & -0.0002519272 & -0.0002560631 & -0.0002609426 & -0.0002687822 & -0.0002806718 & -0.0002813176 & -0.0002858445 & -0.0002960932\\\\\n",
       "\\end{tabular}\n"
      ],
      "text/markdown": [
       "\n",
       "| -0.0005228201 | -0.0005143706 | -0.0005024585 | -0.0004916749 | -0.0004805410 | -0.0004736444 | -0.0004664993 | -0.0004605001 | -0.0004413388 | -0.0004252870 | ⋯             | -0.0003683067 | -0.0003725884 | -0.0003757596 | -0.0003801393 | -0.0003839489 | -0.0003893601 | -0.0003992441 | -0.0004002317 | -0.0004042412 | -0.0004144476 | \n",
       "| -0.0003585915 | -0.0003538409 | -0.0003449360 | -0.0003374007 | -0.0003307162 | -0.0003274106 | -0.0003248295 | -0.0003225737 | -0.0003104744 | -0.0003008704 | ⋯             | -0.0002479432 | -0.0002500823 | -0.0002519272 | -0.0002560631 | -0.0002609426 | -0.0002687822 | -0.0002806718 | -0.0002813176 | -0.0002858445 | -0.0002960932 | \n",
       "\n",
       "\n"
      ],
      "text/plain": [
       "     [,1]          [,2]          [,3]          [,4]          [,5]         \n",
       "[1,] -0.0005228201 -0.0005143706 -0.0005024585 -0.0004916749 -0.0004805410\n",
       "[2,] -0.0003585915 -0.0003538409 -0.0003449360 -0.0003374007 -0.0003307162\n",
       "     [,6]          [,7]          [,8]          [,9]          [,10]        \n",
       "[1,] -0.0004736444 -0.0004664993 -0.0004605001 -0.0004413388 -0.0004252870\n",
       "[2,] -0.0003274106 -0.0003248295 -0.0003225737 -0.0003104744 -0.0003008704\n",
       "     [,11] [,12]         [,13]         [,14]         [,15]        \n",
       "[1,] ⋯     -0.0003683067 -0.0003725884 -0.0003757596 -0.0003801393\n",
       "[2,] ⋯     -0.0002479432 -0.0002500823 -0.0002519272 -0.0002560631\n",
       "     [,16]         [,17]         [,18]         [,19]         [,20]        \n",
       "[1,] -0.0003839489 -0.0003893601 -0.0003992441 -0.0004002317 -0.0004042412\n",
       "[2,] -0.0002609426 -0.0002687822 -0.0002806718 -0.0002813176 -0.0002858445\n",
       "     [,21]        \n",
       "[1,] -0.0004144476\n",
       "[2,] -0.0002960932"
      ]
     },
     "metadata": {},
     "output_type": "display_data"
    },
    {
     "data": {
      "text/html": [
       "<table>\n",
       "<tbody>\n",
       "\t<tr><td>216049.03</td></tr>\n",
       "\t<tr><td>218523.20</td></tr>\n",
       "\t<tr><td>157225.01</td></tr>\n",
       "\t<tr><td>101386.24</td></tr>\n",
       "\t<tr><td>100158.53</td></tr>\n",
       "\t<tr><td>100503.18</td></tr>\n",
       "\t<tr><td>177506.26</td></tr>\n",
       "\t<tr><td>118660.89</td></tr>\n",
       "\t<tr><td> 91799.80</td></tr>\n",
       "\t<tr><td> 93562.81</td></tr>\n",
       "\t<tr><td> 93070.25</td></tr>\n",
       "\t<tr><td> 94190.93</td></tr>\n",
       "\t<tr><td>114508.89</td></tr>\n",
       "\t<tr><td>118055.69</td></tr>\n",
       "\t<tr><td>137283.96</td></tr>\n",
       "\t<tr><td> 87226.62</td></tr>\n",
       "\t<tr><td>107359.70</td></tr>\n",
       "\t<tr><td>136571.34</td></tr>\n",
       "\t<tr><td> 63738.02</td></tr>\n",
       "\t<tr><td> 84444.73</td></tr>\n",
       "\t<tr><td> 84580.67</td></tr>\n",
       "\t<tr><td> 82231.07</td></tr>\n",
       "\t<tr><td> 61602.49</td></tr>\n",
       "\t<tr><td> 84136.74</td></tr>\n",
       "\t<tr><td> 90490.73</td></tr>\n",
       "\t<tr><td> 79429.64</td></tr>\n",
       "\t<tr><td> 62052.63</td></tr>\n",
       "\t<tr><td> 74878.76</td></tr>\n",
       "\t<tr><td> 97630.48</td></tr>\n",
       "\t<tr><td> 64969.33</td></tr>\n",
       "\t<tr><td>⋮</td></tr>\n",
       "\t<tr><td>  0.11405231</td></tr>\n",
       "\t<tr><td>  3.66644789</td></tr>\n",
       "\t<tr><td> 22.51870116</td></tr>\n",
       "\t<tr><td> 73.30191438</td></tr>\n",
       "\t<tr><td>146.80963329</td></tr>\n",
       "\t<tr><td> 29.98544653</td></tr>\n",
       "\t<tr><td>  6.23682898</td></tr>\n",
       "\t<tr><td>  2.15595975</td></tr>\n",
       "\t<tr><td> 72.55249745</td></tr>\n",
       "\t<tr><td>223.87447214</td></tr>\n",
       "\t<tr><td>  4.47897670</td></tr>\n",
       "\t<tr><td>  4.87097409</td></tr>\n",
       "\t<tr><td> 49.06917068</td></tr>\n",
       "\t<tr><td>  0.02708003</td></tr>\n",
       "\t<tr><td> 13.12732343</td></tr>\n",
       "\t<tr><td>  8.22129138</td></tr>\n",
       "\t<tr><td>  0.11368824</td></tr>\n",
       "\t<tr><td>158.21586700</td></tr>\n",
       "\t<tr><td> 46.09765409</td></tr>\n",
       "\t<tr><td>  1.92282587</td></tr>\n",
       "\t<tr><td>  7.57322339</td></tr>\n",
       "\t<tr><td>  2.95204781</td></tr>\n",
       "\t<tr><td>  4.76983889</td></tr>\n",
       "\t<tr><td> 42.38790731</td></tr>\n",
       "\t<tr><td> 76.62116096</td></tr>\n",
       "\t<tr><td>  7.22975382</td></tr>\n",
       "\t<tr><td>136.05648702</td></tr>\n",
       "\t<tr><td> 45.85344072</td></tr>\n",
       "\t<tr><td> 20.44802506</td></tr>\n",
       "\t<tr><td>  0.04587453</td></tr>\n",
       "</tbody>\n",
       "</table>\n"
      ],
      "text/latex": [
       "\\begin{tabular}{l}\n",
       "\t 216049.03\\\\\n",
       "\t 218523.20\\\\\n",
       "\t 157225.01\\\\\n",
       "\t 101386.24\\\\\n",
       "\t 100158.53\\\\\n",
       "\t 100503.18\\\\\n",
       "\t 177506.26\\\\\n",
       "\t 118660.89\\\\\n",
       "\t  91799.80\\\\\n",
       "\t  93562.81\\\\\n",
       "\t  93070.25\\\\\n",
       "\t  94190.93\\\\\n",
       "\t 114508.89\\\\\n",
       "\t 118055.69\\\\\n",
       "\t 137283.96\\\\\n",
       "\t  87226.62\\\\\n",
       "\t 107359.70\\\\\n",
       "\t 136571.34\\\\\n",
       "\t  63738.02\\\\\n",
       "\t  84444.73\\\\\n",
       "\t  84580.67\\\\\n",
       "\t  82231.07\\\\\n",
       "\t  61602.49\\\\\n",
       "\t  84136.74\\\\\n",
       "\t  90490.73\\\\\n",
       "\t  79429.64\\\\\n",
       "\t  62052.63\\\\\n",
       "\t  74878.76\\\\\n",
       "\t  97630.48\\\\\n",
       "\t  64969.33\\\\\n",
       "\t ⋮\\\\\n",
       "\t   0.11405231\\\\\n",
       "\t   3.66644789\\\\\n",
       "\t  22.51870116\\\\\n",
       "\t  73.30191438\\\\\n",
       "\t 146.80963329\\\\\n",
       "\t  29.98544653\\\\\n",
       "\t   6.23682898\\\\\n",
       "\t   2.15595975\\\\\n",
       "\t  72.55249745\\\\\n",
       "\t 223.87447214\\\\\n",
       "\t   4.47897670\\\\\n",
       "\t   4.87097409\\\\\n",
       "\t  49.06917068\\\\\n",
       "\t   0.02708003\\\\\n",
       "\t  13.12732343\\\\\n",
       "\t   8.22129138\\\\\n",
       "\t   0.11368824\\\\\n",
       "\t 158.21586700\\\\\n",
       "\t  46.09765409\\\\\n",
       "\t   1.92282587\\\\\n",
       "\t   7.57322339\\\\\n",
       "\t   2.95204781\\\\\n",
       "\t   4.76983889\\\\\n",
       "\t  42.38790731\\\\\n",
       "\t  76.62116096\\\\\n",
       "\t   7.22975382\\\\\n",
       "\t 136.05648702\\\\\n",
       "\t  45.85344072\\\\\n",
       "\t  20.44802506\\\\\n",
       "\t   0.04587453\\\\\n",
       "\\end{tabular}\n"
      ],
      "text/markdown": [
       "\n",
       "| 216049.03 | \n",
       "| 218523.20 | \n",
       "| 157225.01 | \n",
       "| 101386.24 | \n",
       "| 100158.53 | \n",
       "| 100503.18 | \n",
       "| 177506.26 | \n",
       "| 118660.89 | \n",
       "|  91799.80 | \n",
       "|  93562.81 | \n",
       "|  93070.25 | \n",
       "|  94190.93 | \n",
       "| 114508.89 | \n",
       "| 118055.69 | \n",
       "| 137283.96 | \n",
       "|  87226.62 | \n",
       "| 107359.70 | \n",
       "| 136571.34 | \n",
       "|  63738.02 | \n",
       "|  84444.73 | \n",
       "|  84580.67 | \n",
       "|  82231.07 | \n",
       "|  61602.49 | \n",
       "|  84136.74 | \n",
       "|  90490.73 | \n",
       "|  79429.64 | \n",
       "|  62052.63 | \n",
       "|  74878.76 | \n",
       "|  97630.48 | \n",
       "|  64969.33 | \n",
       "| ⋮ | \n",
       "|   0.11405231 | \n",
       "|   3.66644789 | \n",
       "|  22.51870116 | \n",
       "|  73.30191438 | \n",
       "| 146.80963329 | \n",
       "|  29.98544653 | \n",
       "|   6.23682898 | \n",
       "|   2.15595975 | \n",
       "|  72.55249745 | \n",
       "| 223.87447214 | \n",
       "|   4.47897670 | \n",
       "|   4.87097409 | \n",
       "|  49.06917068 | \n",
       "|   0.02708003 | \n",
       "|  13.12732343 | \n",
       "|   8.22129138 | \n",
       "|   0.11368824 | \n",
       "| 158.21586700 | \n",
       "|  46.09765409 | \n",
       "|   1.92282587 | \n",
       "|   7.57322339 | \n",
       "|   2.95204781 | \n",
       "|   4.76983889 | \n",
       "|  42.38790731 | \n",
       "|  76.62116096 | \n",
       "|   7.22975382 | \n",
       "| 136.05648702 | \n",
       "|  45.85344072 | \n",
       "|  20.44802506 | \n",
       "|   0.04587453 | \n",
       "\n",
       "\n"
      ],
      "text/plain": [
       "      [,1]        \n",
       " [1,] 216049.03   \n",
       " [2,] 218523.20   \n",
       " [3,] 157225.01   \n",
       " [4,] 101386.24   \n",
       " [5,] 100158.53   \n",
       " [6,] 100503.18   \n",
       " [7,] 177506.26   \n",
       " [8,] 118660.89   \n",
       " [9,]  91799.80   \n",
       "[10,]  93562.81   \n",
       "[11,]  93070.25   \n",
       "[12,]  94190.93   \n",
       "[13,] 114508.89   \n",
       "[14,] 118055.69   \n",
       "[15,] 137283.96   \n",
       "[16,]  87226.62   \n",
       "[17,] 107359.70   \n",
       "[18,] 136571.34   \n",
       "[19,]  63738.02   \n",
       "[20,]  84444.73   \n",
       "[21,]  84580.67   \n",
       "[22,]  82231.07   \n",
       "[23,]  61602.49   \n",
       "[24,]  84136.74   \n",
       "[25,]  90490.73   \n",
       "[26,]  79429.64   \n",
       "[27,]  62052.63   \n",
       "[28,]  74878.76   \n",
       "[29,]  97630.48   \n",
       "[30,]  64969.33   \n",
       "[31,] ⋮           \n",
       "[32,]   0.11405231\n",
       "[33,]   3.66644789\n",
       "[34,]  22.51870116\n",
       "[35,]  73.30191438\n",
       "[36,] 146.80963329\n",
       "[37,]  29.98544653\n",
       "[38,]   6.23682898\n",
       "[39,]   2.15595975\n",
       "[40,]  72.55249745\n",
       "[41,] 223.87447214\n",
       "[42,]   4.47897670\n",
       "[43,]   4.87097409\n",
       "[44,]  49.06917068\n",
       "[45,]   0.02708003\n",
       "[46,]  13.12732343\n",
       "[47,]   8.22129138\n",
       "[48,]   0.11368824\n",
       "[49,] 158.21586700\n",
       "[50,]  46.09765409\n",
       "[51,]   1.92282587\n",
       "[52,]   7.57322339\n",
       "[53,]   2.95204781\n",
       "[54,]   4.76983889\n",
       "[55,]  42.38790731\n",
       "[56,]  76.62116096\n",
       "[57,]   7.22975382\n",
       "[58,] 136.05648702\n",
       "[59,]  45.85344072\n",
       "[60,]  20.44802506\n",
       "[61,]   0.04587453"
      ]
     },
     "metadata": {},
     "output_type": "display_data"
    },
    {
     "data": {
      "text/html": [
       "5600"
      ],
      "text/latex": [
       "5600"
      ],
      "text/markdown": [
       "5600"
      ],
      "text/plain": [
       "[1] 5600"
      ]
     },
     "metadata": {},
     "output_type": "display_data"
    },
    {
     "data": {
      "text/html": [
       "1e-06"
      ],
      "text/latex": [
       "1e-06"
      ],
      "text/markdown": [
       "1e-06"
      ],
      "text/plain": [
       "[1] 1e-06"
      ]
     },
     "metadata": {},
     "output_type": "display_data"
    }
   ],
   "source": [
    "# load and check the model\n",
    "alpha = 1e-06\n",
    "i = 5600\n",
    "nameofmodel = paste(c(\"alpha-\",alpha,\"num-\",i,\".Rd\"),collapse = '')\n",
    "load(nameofmodel)\n",
    "W\n",
    "cost\n",
    "i\n",
    "alpha"
   ]
  },
  {
   "cell_type": "code",
   "execution_count": 72,
   "metadata": {
    "collapsed": false
   },
   "outputs": [
    {
     "data": {
      "image/png": "[encoded data removed]",
      "text/plain": [
       "plot without title"
      ]
     },
     "metadata": {},
     "output_type": "display_data"
    }
   ],
   "source": [
    "plot(cost)"
   ]
  },
  {
   "cell_type": "markdown",
   "metadata": {},
   "source": [
    "# if cost is not decreasing in the plot\n",
    "        lessen your fking learning rate, the variable alpha\n",
    "## if decreasing learning rate is not useful\n",
    "        give up this shit"
   ]
  },
  {
   "cell_type": "code",
   "execution_count": 451,
   "metadata": {
    "collapsed": false,
    "deletable": true,
    "editable": true
   },
   "outputs": [
    {
     "data": {
      "text/html": [
       "573036.521025143"
      ],
      "text/latex": [
       "573036.521025143"
      ],
      "text/markdown": [
       "573036.521025143"
      ],
      "text/plain": [
       "[1] 573036.5"
      ]
     },
     "metadata": {},
     "output_type": "display_data"
    },
    {
     "data": {
      "text/html": [
       "116144.703837801"
      ],
      "text/latex": [
       "116144.703837801"
      ],
      "text/markdown": [
       "116144.703837801"
      ],
      "text/plain": [
       "[1] 116144.7"
      ]
     },
     "metadata": {},
     "output_type": "display_data"
    }
   ],
   "source": [
    "#  compare the model with benchmark\n",
    "tno = 700\n",
    "model1 = 0\n",
    "model2 = 0\n",
    "for (i in (1:tno)){\n",
    "    p_model1 = c(96-predictions(im.test[i,,],1)[2],96-predictions(im.test[i,,],1)[3])\n",
    "    p_model2 = runmodel(getscore(im.test[i,,]))\n",
    "    model1_add = (lb.test[i,1]-p_model1[1])^2+(lb.test[i,2]-p_model1[2])^2\n",
    "    model2_add = (lb.test[i,1]-p_model2[1])^2+(lb.test[i,2]-p_model2[2])^2\n",
    "    if (!is.na(model1_add)&&!is.na(model2_add)){\n",
    "        model1 = model1 + model1_add\n",
    "        model2 = model2 + model2_add\n",
    "    }\n",
    "    \n",
    "}\n",
    "model1 # this is benchmark\n",
    "model2 # model2 should be much better in my test is 5 times less"
   ]
  },
  {
   "cell_type": "code",
   "execution_count": 410,
   "metadata": {
    "collapsed": false,
    "deletable": true,
    "editable": true
   },
   "outputs": [
    {
     "data": {
      "text/html": [
       "-4.92398545625053"
      ],
      "text/latex": [
       "-4.92398545625053"
      ],
      "text/markdown": [
       "-4.92398545625053"
      ],
      "text/plain": [
       "[1] -4.923985"
      ]
     },
     "metadata": {},
     "output_type": "display_data"
    },
    {
     "data": {
      "text/html": [
       "-1.87881903946733"
      ],
      "text/latex": [
       "-1.87881903946733"
      ],
      "text/markdown": [
       "-1.87881903946733"
      ],
      "text/plain": [
       "[1] -1.878819"
      ]
     },
     "metadata": {},
     "output_type": "display_data"
    }
   ],
   "source": [
    "# this is for test\n",
    "no = 200\n",
    "a = runmodel(getscore(im.test[no,,]))\n",
    "a[1] - lb.test[no,1]\n",
    "a[2] - lb.test[no,2]\n"
   ]
  },
  {
   "cell_type": "code",
   "execution_count": 78,
   "metadata": {
    "collapsed": false,
    "deletable": true,
    "editable": true
   },
   "outputs": [
    {
     "data": {
      "image/png": "[encoded data removed]",
      "text/plain": [
       "plot without title"
      ]
     },
     "metadata": {},
     "output_type": "display_data"
    }
   ],
   "source": [
    "#  compare the model with benchmark in virtal\n",
    "numofpci = 3\n",
    "numoffeature = 1\n",
    "im = matrix(im.test[numofpci,,],nrow = 96, ncol = 96)\n",
    "image(1:96,1:96,im,col=gray((0:255)/255))\n",
    "points(96-lb.test[numofpci,2*numoffeature-1],         96-lb.test[numofpci,2*numoffeature],         col=\"red\")\n",
    "p = predictions(im.test[numofpci,,],numoffeature)\n",
    "a = c(p[2]+11,p[3]+11)\n",
    "points(a[1],         a[2],         col=\"green\")\n",
    "p_new = runmodel(getscore(im.test[numofpci,,]))\n",
    "points(96-p_new[1],         96-p_new[2],         col=\"blue\")"
   ]
  },
  {
   "cell_type": "code",
   "execution_count": null,
   "metadata": {
    "collapsed": true,
    "deletable": true,
    "editable": true
   },
   "outputs": [],
   "source": []
  }
 ],
 "metadata": {
  "kernelspec": {
   "display_name": "R",
   "language": "R",
   "name": "ir"
  },
  "language_info": {
   "codemirror_mode": "r",
   "file_extension": ".r",
   "mimetype": "text/x-r-source",
   "name": "R",
   "pygments_lexer": "r",
   "version": "3.3.2"
  }
 },
 "nbformat": 4,
 "nbformat_minor": 2
}
